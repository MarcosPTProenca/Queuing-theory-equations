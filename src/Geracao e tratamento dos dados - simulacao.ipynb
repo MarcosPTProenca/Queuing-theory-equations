{
 "cells": [
  {
   "cell_type": "markdown",
   "metadata": {},
   "source": [
    "Descrever como foram coletados/gerados todos os dados utilizados no projeto e organizá-los em tabelas, quando possível. \n",
    "\n",
    "Fazer gráficos de dispersão e histograma. \n",
    "\n",
    "Calcular R2.\n",
    "\n",
    "Fazer o blox-plot para remover os outliers.\n",
    "\n",
    "Aplicar testes de aderência (Chi-quadrado ou K-S), etc.\n"
   ]
  },
  {
   "cell_type": "code",
   "execution_count": 1,
   "metadata": {},
   "outputs": [],
   "source": [
    "import numpy as np \n",
    "import matplotlib.pyplot as plt\n",
    "import scipy\n",
    "from scipy import stats\n",
    "from scipy.stats import chi\n",
    "from sklearn.metrics import r2_score\n",
    "from sklearn.linear_model import LinearRegression\n",
    "from scipy.stats import chisquare\n",
    "import pandas as pd"
   ]
  },
  {
   "cell_type": "code",
   "execution_count": 2,
   "metadata": {},
   "outputs": [],
   "source": [
    "def kolmogorov_smirnov_critico(n):\n",
    "    # table of critical values for the kolmogorov-smirnov test - 95% confidence\n",
    "    # Source: https://www.soest.hawaii.edu/GG/FACULTY/ITO/GG413/K_S_Table_one_Sample.pdf\n",
    "    # Source: http://www.real-statistics.com/statistics-tables/kolmogorov-smirnov-table/\n",
    "    # alpha = 0.05 (95% confidential level) \n",
    "    if n <= 40:\n",
    "        # valores entre 1 e 40\n",
    "        kolmogorov_critico = [0.97500, 0.84189, 0.70760, 0.62394, 0.56328, 0.51926, 0.48342, 0.45427, 0.43001, 0.40925, \n",
    "                      0.39122, 0.37543, 0.36143, 0.34890, 0.33760, 0.32733, 0.31796, 0.30936, 0.30143, 0.29408, \n",
    "                      0.28724, 0.28087, 0.27490, 0.26931, 0.26404, 0.25907, 0.25438, 0.24993, 0.24571, 0.24170, \n",
    "                      0.23788, 0.23424, 0.23076, 0.22743, 0.22425, 0.22119, 0.21826, 0.21544, 0.21273, 0.21012]\n",
    "        ks_critico = kolmogorov_critico[n - 1]\n",
    "    elif n > 40:\n",
    "        # valores acima de 40:\n",
    "        kolmogorov_critico = 1.36/(np.sqrt(n))\n",
    "        ks_critico = kolmogorov_critico\n",
    "    else:\n",
    "        pass            \n",
    "            \n",
    "    return ks_critico\n",
    "def teste_hipoteses(ks,n):\n",
    "    ks_crit = kolmogorov_smirnov_critico(n)\n",
    "    if ks_crit> ks:\n",
    "        print('Distribuição é a passada como entrada')\n",
    "    else:\n",
    "        print('Distribuição não é a passada como entrada')"
   ]
  },
  {
   "cell_type": "markdown",
   "metadata": {},
   "source": [
    "# Horário: 11-12h -> 150 pessoas"
   ]
  },
  {
   "cell_type": "markdown",
   "metadata": {},
   "source": [
    "Criação da curva da distribuição exponencial"
   ]
  },
  {
   "cell_type": "code",
   "execution_count": 3,
   "metadata": {},
   "outputs": [
    {
     "data": {
      "text/plain": [
       "[<matplotlib.lines.Line2D at 0x1f0cc377eb0>]"
      ]
     },
     "execution_count": 3,
     "metadata": {},
     "output_type": "execute_result"
    },
    {
     "data": {
      "image/png": "[encoded data removed]",
      "text/plain": [
       "<Figure size 432x288 with 1 Axes>"
      ]
     },
     "metadata": {
      "needs_background": "light"
     },
     "output_type": "display_data"
    }
   ],
   "source": [
    "X = np.linspace(0,2.5,1000)\n",
    "lam = 2.5\n",
    "f = lam*np.exp(-1*lam*X)\n",
    "plt.plot(X,f,color='blue')"
   ]
  },
  {
   "cell_type": "markdown",
   "metadata": {},
   "source": [
    "Criação dos números aleatórios que seguem uma distribuição exponencial, assim como construção do histograma com esses dados"
   ]
  },
  {
   "cell_type": "code",
   "execution_count": 4,
   "metadata": {},
   "outputs": [
    {
     "data": {
      "text/plain": [
       "[<matplotlib.lines.Line2D at 0x1f0cc6c65b0>]"
      ]
     },
     "execution_count": 4,
     "metadata": {},
     "output_type": "execute_result"
    },
    {
     "data": {
      "image/png": "[encoded data removed]",
      "text/plain": [
       "<Figure size 432x288 with 1 Axes>"
      ]
     },
     "metadata": {
      "needs_background": "light"
     },
     "output_type": "display_data"
    }
   ],
   "source": [
    "bins = 100\n",
    "lam = 2.5\n",
    "beta = 1/lam\n",
    "e = np.random.exponential(scale = beta, size = 151)\n",
    "plt.hist(e,bins,density = True)\n",
    "bin = np.linspace(0,2.5,1000)\n",
    "y = (1/beta)*np.exp(-1*bin/beta)\n",
    "plt.plot(bin,y,color = 'red')"
   ]
  },
  {
   "cell_type": "markdown",
   "metadata": {},
   "source": [
    "Teste Chi-quadrado para uma distribuição uniforme\n",
    "Conclusão: pelo Valor-p encontrado ser maior que o nível de significância de 5%, logo a distribuição não é uniforme"
   ]
  },
  {
   "cell_type": "code",
   "execution_count": 5,
   "metadata": {},
   "outputs": [
    {
     "data": {
      "text/plain": [
       "Power_divergenceResult(statistic=64.16723815360146, pvalue=0.9999999999244511)"
      ]
     },
     "execution_count": 5,
     "metadata": {},
     "output_type": "execute_result"
    }
   ],
   "source": [
    "chisquare(e)"
   ]
  },
  {
   "cell_type": "markdown",
   "metadata": {},
   "source": [
    "Realização do teste de Kolmogorov Smirnov"
   ]
  },
  {
   "cell_type": "code",
   "execution_count": 6,
   "metadata": {},
   "outputs": [
    {
     "name": "stdout",
     "output_type": "stream",
     "text": [
      "0.04769399223192489\n",
      "0.8656768802113264\n",
      "Distribuição é a passada como entrada\n"
     ]
    }
   ],
   "source": [
    "param = stats.expon.fit(e)\n",
    "ks, p_value = stats.kstest(e, lambda e : stats.expon.cdf(e, *param))\n",
    "print(ks)\n",
    "print(p_value)\n",
    "teste_hipoteses(ks,len(e))"
   ]
  },
  {
   "cell_type": "markdown",
   "metadata": {},
   "source": [
    "Criação do diagrama de dispersão dos dados gerados"
   ]
  },
  {
   "cell_type": "code",
   "execution_count": 7,
   "metadata": {},
   "outputs": [
    {
     "data": {
      "text/plain": [
       "<matplotlib.collections.PathCollection at 0x1f0cc811970>"
      ]
     },
     "execution_count": 7,
     "metadata": {},
     "output_type": "execute_result"
    },
    {
     "data": {
      "image/png": "[encoded data removed]",
      "text/plain": [
       "<Figure size 432x288 with 1 Axes>"
      ]
     },
     "metadata": {
      "needs_background": "light"
     },
     "output_type": "display_data"
    }
   ],
   "source": [
    "ey = []\n",
    "j=1\n",
    "while j <= 150:\n",
    "    ey.append(e[j])\n",
    "    j+=1\n",
    "e = np.resize(e, e.size - 1)\n",
    "plt.scatter(e,ey,color = 'r')"
   ]
  },
  {
   "cell_type": "markdown",
   "metadata": {},
   "source": [
    "Criação do Box-plot"
   ]
  },
  {
   "cell_type": "code",
   "execution_count": 8,
   "metadata": {},
   "outputs": [
    {
     "data": {
      "text/plain": [
       "{'whiskers': [<matplotlib.lines.Line2D at 0x1f0cc88c3d0>,\n",
       "  <matplotlib.lines.Line2D at 0x1f0cc88c760>],\n",
       " 'caps': [<matplotlib.lines.Line2D at 0x1f0cc88caf0>,\n",
       "  <matplotlib.lines.Line2D at 0x1f0cc88ce80>],\n",
       " 'boxes': [<matplotlib.lines.Line2D at 0x1f0cc871ee0>],\n",
       " 'medians': [<matplotlib.lines.Line2D at 0x1f0cc897250>],\n",
       " 'fliers': [<matplotlib.lines.Line2D at 0x1f0cc8975e0>],\n",
       " 'means': []}"
      ]
     },
     "execution_count": 8,
     "metadata": {},
     "output_type": "execute_result"
    },
    {
     "data": {
      "image/png": "[encoded data removed]",
      "text/plain": [
       "<Figure size 432x288 with 1 Axes>"
      ]
     },
     "metadata": {
      "needs_background": "light"
     },
     "output_type": "display_data"
    }
   ],
   "source": [
    "plt.boxplot(e)"
   ]
  },
  {
   "cell_type": "markdown",
   "metadata": {},
   "source": [
    "Retirando os outliers"
   ]
  },
  {
   "cell_type": "code",
   "execution_count": 9,
   "metadata": {},
   "outputs": [],
   "source": [
    "mean = np.mean(e)\n",
    "standard_deviation = np.std(e)\n",
    "distance_from_mean = abs(e - mean)\n",
    "max_deviations = 2\n",
    "not_outlier = distance_from_mean < max_deviations * standard_deviation\n",
    "no_outliers = e[not_outlier]"
   ]
  },
  {
   "cell_type": "markdown",
   "metadata": {},
   "source": [
    "Criação do Box-plot sem outliers"
   ]
  },
  {
   "cell_type": "code",
   "execution_count": 10,
   "metadata": {},
   "outputs": [
    {
     "data": {
      "text/plain": [
       "{'whiskers': [<matplotlib.lines.Line2D at 0x1f0cc8f4a00>,\n",
       "  <matplotlib.lines.Line2D at 0x1f0cc8f4d90>],\n",
       " 'caps': [<matplotlib.lines.Line2D at 0x1f0cc901160>,\n",
       "  <matplotlib.lines.Line2D at 0x1f0cc9014f0>],\n",
       " 'boxes': [<matplotlib.lines.Line2D at 0x1f0cc8f4670>],\n",
       " 'medians': [<matplotlib.lines.Line2D at 0x1f0cc901880>],\n",
       " 'fliers': [<matplotlib.lines.Line2D at 0x1f0cc901c10>],\n",
       " 'means': []}"
      ]
     },
     "execution_count": 10,
     "metadata": {},
     "output_type": "execute_result"
    },
    {
     "data": {
      "image/png": "[encoded data removed]",
      "text/plain": [
       "<Figure size 432x288 with 1 Axes>"
      ]
     },
     "metadata": {
      "needs_background": "light"
     },
     "output_type": "display_data"
    }
   ],
   "source": [
    "plt.boxplot(no_outliers)"
   ]
  },
  {
   "cell_type": "markdown",
   "metadata": {},
   "source": [
    "Mostrando a parte inicial dos dados gerados, onde a coluna da esquerda corresponde a Ei e a coluna da direita corresponde a E(i+1)"
   ]
  },
  {
   "cell_type": "code",
   "execution_count": 11,
   "metadata": {},
   "outputs": [
    {
     "data": {
      "text/html": [
       "<div>\n",
       "<style scoped>\n",
       "    .dataframe tbody tr th:only-of-type {\n",
       "        vertical-align: middle;\n",
       "    }\n",
       "\n",
       "    .dataframe tbody tr th {\n",
       "        vertical-align: top;\n",
       "    }\n",
       "\n",
       "    .dataframe thead th {\n",
       "        text-align: right;\n",
       "    }\n",
       "</style>\n",
       "<table border=\"1\" class=\"dataframe\">\n",
       "  <thead>\n",
       "    <tr style=\"text-align: right;\">\n",
       "      <th></th>\n",
       "      <th>0</th>\n",
       "    </tr>\n",
       "  </thead>\n",
       "  <tbody>\n",
       "    <tr>\n",
       "      <th>0.331548</th>\n",
       "      <td>0.050290</td>\n",
       "    </tr>\n",
       "    <tr>\n",
       "      <th>0.929103</th>\n",
       "      <td>0.331548</td>\n",
       "    </tr>\n",
       "    <tr>\n",
       "      <th>0.030802</th>\n",
       "      <td>0.929103</td>\n",
       "    </tr>\n",
       "    <tr>\n",
       "      <th>0.762551</th>\n",
       "      <td>0.030802</td>\n",
       "    </tr>\n",
       "    <tr>\n",
       "      <th>1.661000</th>\n",
       "      <td>0.762551</td>\n",
       "    </tr>\n",
       "  </tbody>\n",
       "</table>\n",
       "</div>"
      ],
      "text/plain": [
       "                 0\n",
       "0.331548  0.050290\n",
       "0.929103  0.331548\n",
       "0.030802  0.929103\n",
       "0.762551  0.030802\n",
       "1.661000  0.762551"
      ]
     },
     "execution_count": 11,
     "metadata": {},
     "output_type": "execute_result"
    }
   ],
   "source": [
    "df1 = pd.DataFrame(e, ey)\n",
    "df1.head()"
   ]
  },
  {
   "cell_type": "markdown",
   "metadata": {},
   "source": [
    "# Horário: 12-13h -> 750 pessoas"
   ]
  },
  {
   "cell_type": "markdown",
   "metadata": {},
   "source": [
    "Criação da curva da distribuição exponencial"
   ]
  },
  {
   "cell_type": "code",
   "execution_count": 12,
   "metadata": {},
   "outputs": [
    {
     "data": {
      "text/plain": [
       "[<matplotlib.lines.Line2D at 0x1f0cc987a90>]"
      ]
     },
     "execution_count": 12,
     "metadata": {},
     "output_type": "execute_result"
    },
    {
     "data": {
      "image/png": "[encoded data removed]",
      "text/plain": [
       "<Figure size 432x288 with 1 Axes>"
      ]
     },
     "metadata": {
      "needs_background": "light"
     },
     "output_type": "display_data"
    }
   ],
   "source": [
    "X = np.linspace(0,12.5,1000)\n",
    "lam = 12.5\n",
    "f = lam*np.exp(-1*lam*X)\n",
    "plt.plot(X,f,color='red')"
   ]
  },
  {
   "cell_type": "markdown",
   "metadata": {},
   "source": [
    "Criação dos números aleatórios que seguem uma distribuição exponencial, assim como construção do histograma com esses dados"
   ]
  },
  {
   "cell_type": "code",
   "execution_count": 13,
   "metadata": {},
   "outputs": [
    {
     "data": {
      "text/plain": [
       "[<matplotlib.lines.Line2D at 0x1f0cc9f05e0>]"
      ]
     },
     "execution_count": 13,
     "metadata": {},
     "output_type": "execute_result"
    },
    {
     "data": {
      "image/png": "[encoded data removed]",
      "text/plain": [
       "<Figure size 432x288 with 1 Axes>"
      ]
     },
     "metadata": {
      "needs_background": "light"
     },
     "output_type": "display_data"
    }
   ],
   "source": [
    "bins = 100\n",
    "lam = 12.5\n",
    "beta = 1/lam\n",
    "e = np.random.exponential(scale = beta, size = 751)\n",
    "plt.hist(e,bins,density = True)\n",
    "bin = np.linspace(0,2.5,1000)\n",
    "y = (1/beta)*np.exp(-1*bin/beta)\n",
    "plt.plot(bin,y,color = 'red')"
   ]
  },
  {
   "cell_type": "markdown",
   "metadata": {},
   "source": [
    "Teste Chi-quadrado para uma distribuição uniforme Conclusão: pelo Valor-p encontrado ser maior que o nível de significância de 5%, logo a distribuição não é uniforme"
   ]
  },
  {
   "cell_type": "code",
   "execution_count": 14,
   "metadata": {},
   "outputs": [
    {
     "data": {
      "text/plain": [
       "Power_divergenceResult(statistic=60.22337147585672, pvalue=1.0)"
      ]
     },
     "execution_count": 14,
     "metadata": {},
     "output_type": "execute_result"
    }
   ],
   "source": [
    "chisquare(e)"
   ]
  },
  {
   "cell_type": "markdown",
   "metadata": {},
   "source": [
    "Realização do teste de Kolmogorov Smirnov"
   ]
  },
  {
   "cell_type": "code",
   "execution_count": 15,
   "metadata": {},
   "outputs": [
    {
     "name": "stdout",
     "output_type": "stream",
     "text": [
      "0.020326058446349812\n",
      "0.9092214466360907\n",
      "Distribuição é a passada como entrada\n"
     ]
    }
   ],
   "source": [
    "param = stats.expon.fit(e)\n",
    "ks, p_value = stats.kstest(e, lambda e : stats.expon.cdf(e, *param))\n",
    "print(ks)\n",
    "print(p_value)\n",
    "teste_hipoteses(ks,len(e))"
   ]
  },
  {
   "cell_type": "markdown",
   "metadata": {},
   "source": [
    "Criação do diagrama de dispersão dos dados gerados"
   ]
  },
  {
   "cell_type": "code",
   "execution_count": 16,
   "metadata": {},
   "outputs": [
    {
     "data": {
      "text/plain": [
       "<matplotlib.collections.PathCollection at 0x1f0ccb300d0>"
      ]
     },
     "execution_count": 16,
     "metadata": {},
     "output_type": "execute_result"
    },
    {
     "data": {
      "image/png": "[encoded data removed]",
      "text/plain": [
       "<Figure size 432x288 with 1 Axes>"
      ]
     },
     "metadata": {
      "needs_background": "light"
     },
     "output_type": "display_data"
    }
   ],
   "source": [
    "ey = []\n",
    "j=1\n",
    "while j <= 750:\n",
    "    ey.append(e[j])\n",
    "    j+=1\n",
    "e = np.resize(e, e.size - 1)\n",
    "plt.scatter(e,ey,color = 'r')"
   ]
  },
  {
   "cell_type": "code",
   "execution_count": 17,
   "metadata": {},
   "outputs": [
    {
     "data": {
      "text/plain": [
       "-1.035981702610954"
      ]
     },
     "execution_count": 17,
     "metadata": {},
     "output_type": "execute_result"
    }
   ],
   "source": [
    "x = np.array(e)\n",
    "y = np.array(ey)\n",
    "x = x.reshape(-1,1)\n",
    "\n",
    "linreg = LinearRegression(fit_intercept = False)\n",
    "obj = linreg.fit(x,y)\n",
    "pred = linreg.predict(x)\n",
    "r2 = r2_score(x,y)\n",
    "r2"
   ]
  },
  {
   "cell_type": "markdown",
   "metadata": {},
   "source": [
    "Criação do Box-plot"
   ]
  },
  {
   "cell_type": "code",
   "execution_count": 18,
   "metadata": {},
   "outputs": [
    {
     "data": {
      "text/plain": [
       "{'whiskers': [<matplotlib.lines.Line2D at 0x1f0ccba0460>,\n",
       "  <matplotlib.lines.Line2D at 0x1f0ccba07f0>],\n",
       " 'caps': [<matplotlib.lines.Line2D at 0x1f0ccba0b80>,\n",
       "  <matplotlib.lines.Line2D at 0x1f0ccba0f10>],\n",
       " 'boxes': [<matplotlib.lines.Line2D at 0x1f0ccba00d0>],\n",
       " 'medians': [<matplotlib.lines.Line2D at 0x1f0ccbab2e0>],\n",
       " 'fliers': [<matplotlib.lines.Line2D at 0x1f0ccbab670>],\n",
       " 'means': []}"
      ]
     },
     "execution_count": 18,
     "metadata": {},
     "output_type": "execute_result"
    },
    {
     "data": {
      "image/png": "[encoded data removed]",
      "text/plain": [
       "<Figure size 432x288 with 1 Axes>"
      ]
     },
     "metadata": {
      "needs_background": "light"
     },
     "output_type": "display_data"
    }
   ],
   "source": [
    "plt.boxplot(e)"
   ]
  },
  {
   "cell_type": "markdown",
   "metadata": {},
   "source": [
    "Tratamento dos outliers"
   ]
  },
  {
   "cell_type": "code",
   "execution_count": 19,
   "metadata": {},
   "outputs": [],
   "source": [
    "mean = np.mean(e)\n",
    "standard_deviation = np.std(e)\n",
    "distance_from_mean = abs(e - mean)\n",
    "max_deviations = 2\n",
    "not_outlier = distance_from_mean < max_deviations * standard_deviation\n",
    "no_outliers = e[not_outlier]"
   ]
  },
  {
   "cell_type": "markdown",
   "metadata": {},
   "source": [
    "Box-plot sem outliers"
   ]
  },
  {
   "cell_type": "code",
   "execution_count": 20,
   "metadata": {},
   "outputs": [
    {
     "data": {
      "text/plain": [
       "{'whiskers': [<matplotlib.lines.Line2D at 0x1f0ccbfefa0>,\n",
       "  <matplotlib.lines.Line2D at 0x1f0ccc0e370>],\n",
       " 'caps': [<matplotlib.lines.Line2D at 0x1f0ccc0e700>,\n",
       "  <matplotlib.lines.Line2D at 0x1f0ccc0ea90>],\n",
       " 'boxes': [<matplotlib.lines.Line2D at 0x1f0ccbfebe0>],\n",
       " 'medians': [<matplotlib.lines.Line2D at 0x1f0ccc0ee20>],\n",
       " 'fliers': [<matplotlib.lines.Line2D at 0x1f0ccc181f0>],\n",
       " 'means': []}"
      ]
     },
     "execution_count": 20,
     "metadata": {},
     "output_type": "execute_result"
    },
    {
     "data": {
      "image/png": "[encoded data removed]",
      "text/plain": [
       "<Figure size 432x288 with 1 Axes>"
      ]
     },
     "metadata": {
      "needs_background": "light"
     },
     "output_type": "display_data"
    }
   ],
   "source": [
    "plt.boxplot(no_outliers)"
   ]
  },
  {
   "cell_type": "markdown",
   "metadata": {},
   "source": [
    "Mostrando a parte inicial dos dados gerados, onde a coluna da esquerda corresponde a Ei e a coluna da direita corresponde a E(i+1)"
   ]
  },
  {
   "cell_type": "code",
   "execution_count": 21,
   "metadata": {},
   "outputs": [
    {
     "data": {
      "text/html": [
       "<div>\n",
       "<style scoped>\n",
       "    .dataframe tbody tr th:only-of-type {\n",
       "        vertical-align: middle;\n",
       "    }\n",
       "\n",
       "    .dataframe tbody tr th {\n",
       "        vertical-align: top;\n",
       "    }\n",
       "\n",
       "    .dataframe thead th {\n",
       "        text-align: right;\n",
       "    }\n",
       "</style>\n",
       "<table border=\"1\" class=\"dataframe\">\n",
       "  <thead>\n",
       "    <tr style=\"text-align: right;\">\n",
       "      <th></th>\n",
       "      <th>0</th>\n",
       "    </tr>\n",
       "  </thead>\n",
       "  <tbody>\n",
       "    <tr>\n",
       "      <th>0.114106</th>\n",
       "      <td>0.101004</td>\n",
       "    </tr>\n",
       "    <tr>\n",
       "      <th>0.440151</th>\n",
       "      <td>0.114106</td>\n",
       "    </tr>\n",
       "    <tr>\n",
       "      <th>0.042903</th>\n",
       "      <td>0.440151</td>\n",
       "    </tr>\n",
       "    <tr>\n",
       "      <th>0.010270</th>\n",
       "      <td>0.042903</td>\n",
       "    </tr>\n",
       "    <tr>\n",
       "      <th>0.161792</th>\n",
       "      <td>0.010270</td>\n",
       "    </tr>\n",
       "  </tbody>\n",
       "</table>\n",
       "</div>"
      ],
      "text/plain": [
       "                 0\n",
       "0.114106  0.101004\n",
       "0.440151  0.114106\n",
       "0.042903  0.440151\n",
       "0.010270  0.042903\n",
       "0.161792  0.010270"
      ]
     },
     "execution_count": 21,
     "metadata": {},
     "output_type": "execute_result"
    }
   ],
   "source": [
    "df2 = pd.DataFrame(e, ey)\n",
    "df2.head()"
   ]
  },
  {
   "cell_type": "markdown",
   "metadata": {},
   "source": [
    "# Horário: 13-14h -> 400 pessoas"
   ]
  },
  {
   "cell_type": "markdown",
   "metadata": {},
   "source": [
    "Criação da curva da distribuição exponencial"
   ]
  },
  {
   "cell_type": "code",
   "execution_count": 22,
   "metadata": {},
   "outputs": [
    {
     "data": {
      "text/plain": [
       "[<matplotlib.lines.Line2D at 0x1f0ccc77a90>]"
      ]
     },
     "execution_count": 22,
     "metadata": {},
     "output_type": "execute_result"
    },
    {
     "data": {
      "image/png": "[encoded data removed]",
      "text/plain": [
       "<Figure size 432x288 with 1 Axes>"
      ]
     },
     "metadata": {
      "needs_background": "light"
     },
     "output_type": "display_data"
    }
   ],
   "source": [
    "X = np.linspace(0,6.67,1300)\n",
    "lam = 6.67\n",
    "f = lam*np.exp(-1*lam*X)\n",
    "plt.plot(X,f,color='green')"
   ]
  },
  {
   "cell_type": "markdown",
   "metadata": {},
   "source": [
    "Geração dos dados aleatórios seguindo uma distribuição exponencial e construção do histograma desses dados"
   ]
  },
  {
   "cell_type": "code",
   "execution_count": 23,
   "metadata": {},
   "outputs": [
    {
     "data": {
      "text/plain": [
       "[<matplotlib.lines.Line2D at 0x1f0cccec2b0>]"
      ]
     },
     "execution_count": 23,
     "metadata": {},
     "output_type": "execute_result"
    },
    {
     "data": {
      "image/png": "[encoded data removed]",
      "text/plain": [
       "<Figure size 432x288 with 1 Axes>"
      ]
     },
     "metadata": {
      "needs_background": "light"
     },
     "output_type": "display_data"
    }
   ],
   "source": [
    "bins = 100\n",
    "lam = 6.67\n",
    "beta = 1/lam\n",
    "e = np.random.exponential(scale = beta, size = 401)\n",
    "plt.hist(e,bins,density = True)\n",
    "bin = np.linspace(0,2.5,1000)\n",
    "y = (1/beta)*np.exp(-1*bin/beta)\n",
    "plt.plot(bin,y,color = 'red')"
   ]
  },
  {
   "cell_type": "markdown",
   "metadata": {},
   "source": [
    "Teste Chi-quadrado para uma distribuição uniforme Conclusão: pelo Valor-p encontrado ser maior que o nível de significância de 5%, logo a distribuição não é uniforme"
   ]
  },
  {
   "cell_type": "code",
   "execution_count": 24,
   "metadata": {},
   "outputs": [
    {
     "data": {
      "text/plain": [
       "Power_divergenceResult(statistic=59.15344813240333, pvalue=1.0)"
      ]
     },
     "execution_count": 24,
     "metadata": {},
     "output_type": "execute_result"
    }
   ],
   "source": [
    "chisquare(e)"
   ]
  },
  {
   "cell_type": "markdown",
   "metadata": {},
   "source": [
    "Realização do teste de Kolmogorov Smirnov"
   ]
  },
  {
   "cell_type": "code",
   "execution_count": 25,
   "metadata": {},
   "outputs": [
    {
     "name": "stdout",
     "output_type": "stream",
     "text": [
      "0.029006300707346222\n",
      "0.8786226094340446\n",
      "Distribuição é a passada como entrada\n"
     ]
    }
   ],
   "source": [
    "param = stats.expon.fit(e)\n",
    "ks, p_value = stats.kstest(e, lambda e : stats.expon.cdf(e, *param))\n",
    "print(ks)\n",
    "print(p_value)\n",
    "teste_hipoteses(ks,len(e))"
   ]
  },
  {
   "cell_type": "markdown",
   "metadata": {},
   "source": [
    "Construção do diagrama de dispersão"
   ]
  },
  {
   "cell_type": "code",
   "execution_count": 26,
   "metadata": {},
   "outputs": [
    {
     "data": {
      "text/plain": [
       "<matplotlib.collections.PathCollection at 0x1f0cdde3be0>"
      ]
     },
     "execution_count": 26,
     "metadata": {},
     "output_type": "execute_result"
    },
    {
     "data": {
      "image/png": "[encoded data removed]",
      "text/plain": [
       "<Figure size 432x288 with 1 Axes>"
      ]
     },
     "metadata": {
      "needs_background": "light"
     },
     "output_type": "display_data"
    }
   ],
   "source": [
    "ey = []\n",
    "j=1\n",
    "while j <= 400:\n",
    "    ey.append(e[j])\n",
    "    j+=1\n",
    "e = np.resize(e, e.size - 1)\n",
    "plt.scatter(e,ey,color = 'r')"
   ]
  },
  {
   "cell_type": "code",
   "execution_count": 27,
   "metadata": {},
   "outputs": [
    {
     "data": {
      "text/plain": [
       "-0.4696766331510296"
      ]
     },
     "execution_count": 27,
     "metadata": {},
     "output_type": "execute_result"
    }
   ],
   "source": [
    "x = np.array(e)\n",
    "y = np.array(ey)\n",
    "x = x.reshape(-1,1)\n",
    "\n",
    "linreg = LinearRegression(fit_intercept = False)\n",
    "obj = linreg.fit(x,y)\n",
    "pred = linreg.predict(x)\n",
    "r2 = r2_score(y,pred)\n",
    "r2"
   ]
  },
  {
   "cell_type": "markdown",
   "metadata": {},
   "source": [
    "Criação do Box-plot"
   ]
  },
  {
   "cell_type": "code",
   "execution_count": 28,
   "metadata": {},
   "outputs": [
    {
     "data": {
      "text/plain": [
       "{'whiskers': [<matplotlib.lines.Line2D at 0x1f0cde42970>,\n",
       "  <matplotlib.lines.Line2D at 0x1f0cde42d00>],\n",
       " 'caps': [<matplotlib.lines.Line2D at 0x1f0cde4f0d0>,\n",
       "  <matplotlib.lines.Line2D at 0x1f0cde4f460>],\n",
       " 'boxes': [<matplotlib.lines.Line2D at 0x1f0cde37460>],\n",
       " 'medians': [<matplotlib.lines.Line2D at 0x1f0cde4f7f0>],\n",
       " 'fliers': [<matplotlib.lines.Line2D at 0x1f0cde4fb80>],\n",
       " 'means': []}"
      ]
     },
     "execution_count": 28,
     "metadata": {},
     "output_type": "execute_result"
    },
    {
     "data": {
      "image/png": "[encoded data removed]",
      "text/plain": [
       "<Figure size 432x288 with 1 Axes>"
      ]
     },
     "metadata": {
      "needs_background": "light"
     },
     "output_type": "display_data"
    }
   ],
   "source": [
    "plt.boxplot(e)"
   ]
  },
  {
   "cell_type": "markdown",
   "metadata": {},
   "source": [
    "Tratamento dos outliers"
   ]
  },
  {
   "cell_type": "code",
   "execution_count": 29,
   "metadata": {},
   "outputs": [],
   "source": [
    "mean = np.mean(e)\n",
    "standard_deviation = np.std(e)\n",
    "distance_from_mean = abs(e - mean)\n",
    "max_deviations = 2\n",
    "not_outlier = distance_from_mean < max_deviations * standard_deviation\n",
    "no_outliers = e[not_outlier]"
   ]
  },
  {
   "cell_type": "markdown",
   "metadata": {},
   "source": [
    "Criação do Box-plot sem os outliers"
   ]
  },
  {
   "cell_type": "code",
   "execution_count": 30,
   "metadata": {},
   "outputs": [
    {
     "data": {
      "text/plain": [
       "{'whiskers': [<matplotlib.lines.Line2D at 0x1f0cdeae2b0>,\n",
       "  <matplotlib.lines.Line2D at 0x1f0cdeae640>],\n",
       " 'caps': [<matplotlib.lines.Line2D at 0x1f0cdeae9d0>,\n",
       "  <matplotlib.lines.Line2D at 0x1f0cdeaed60>],\n",
       " 'boxes': [<matplotlib.lines.Line2D at 0x1f0cde9eee0>],\n",
       " 'medians': [<matplotlib.lines.Line2D at 0x1f0cdebb130>],\n",
       " 'fliers': [<matplotlib.lines.Line2D at 0x1f0cdebb4c0>],\n",
       " 'means': []}"
      ]
     },
     "execution_count": 30,
     "metadata": {},
     "output_type": "execute_result"
    },
    {
     "data": {
      "image/png": "[encoded data removed]",
      "text/plain": [
       "<Figure size 432x288 with 1 Axes>"
      ]
     },
     "metadata": {
      "needs_background": "light"
     },
     "output_type": "display_data"
    }
   ],
   "source": [
    "plt.boxplot(no_outliers)"
   ]
  },
  {
   "cell_type": "markdown",
   "metadata": {},
   "source": [
    "Mostrando a parte inicial dos dados gerados, onde a coluna da esquerda corresponde a Ei e a coluna da direita corresponde a E(i+1)"
   ]
  },
  {
   "cell_type": "code",
   "execution_count": 31,
   "metadata": {},
   "outputs": [
    {
     "data": {
      "text/html": [
       "<div>\n",
       "<style scoped>\n",
       "    .dataframe tbody tr th:only-of-type {\n",
       "        vertical-align: middle;\n",
       "    }\n",
       "\n",
       "    .dataframe tbody tr th {\n",
       "        vertical-align: top;\n",
       "    }\n",
       "\n",
       "    .dataframe thead th {\n",
       "        text-align: right;\n",
       "    }\n",
       "</style>\n",
       "<table border=\"1\" class=\"dataframe\">\n",
       "  <thead>\n",
       "    <tr style=\"text-align: right;\">\n",
       "      <th></th>\n",
       "      <th>0</th>\n",
       "    </tr>\n",
       "  </thead>\n",
       "  <tbody>\n",
       "    <tr>\n",
       "      <th>0.063482</th>\n",
       "      <td>0.147542</td>\n",
       "    </tr>\n",
       "    <tr>\n",
       "      <th>0.022122</th>\n",
       "      <td>0.063482</td>\n",
       "    </tr>\n",
       "    <tr>\n",
       "      <th>0.143801</th>\n",
       "      <td>0.022122</td>\n",
       "    </tr>\n",
       "    <tr>\n",
       "      <th>0.031565</th>\n",
       "      <td>0.143801</td>\n",
       "    </tr>\n",
       "    <tr>\n",
       "      <th>0.062898</th>\n",
       "      <td>0.031565</td>\n",
       "    </tr>\n",
       "  </tbody>\n",
       "</table>\n",
       "</div>"
      ],
      "text/plain": [
       "                 0\n",
       "0.063482  0.147542\n",
       "0.022122  0.063482\n",
       "0.143801  0.022122\n",
       "0.031565  0.143801\n",
       "0.062898  0.031565"
      ]
     },
     "execution_count": 31,
     "metadata": {},
     "output_type": "execute_result"
    }
   ],
   "source": [
    "df3 = pd.DataFrame(e, ey)\n",
    "df3.head()"
   ]
  },
  {
   "cell_type": "markdown",
   "metadata": {},
   "source": [
    "# Mesa dos onívoros"
   ]
  },
  {
   "cell_type": "markdown",
   "metadata": {},
   "source": [
    "Geração dos números aleatórios com uma distribuição triangular e criação do histograma"
   ]
  },
  {
   "cell_type": "code",
   "execution_count": 32,
   "metadata": {},
   "outputs": [
    {
     "data": {
      "image/png": "[encoded data removed]",
      "text/plain": [
       "<Figure size 432x288 with 1 Axes>"
      ]
     },
     "metadata": {
      "needs_background": "light"
     },
     "output_type": "display_data"
    }
   ],
   "source": [
    "distribuicao = np.random.triangular(0.3, 0.41, 0.66, 1301)\n",
    "h = plt.hist(distribuicao, bins=200,\n",
    "             density=True)"
   ]
  },
  {
   "cell_type": "markdown",
   "metadata": {},
   "source": [
    "Teste Chi-quadrado para uma distribuição uniforme Conclusão: pelo Valor-p encontrado ser maior que o nível de significância de 5%, logo a distribuição não é uniforme"
   ]
  },
  {
   "cell_type": "code",
   "execution_count": 33,
   "metadata": {},
   "outputs": [
    {
     "data": {
      "text/plain": [
       "Power_divergenceResult(statistic=16.642124425664633, pvalue=1.0)"
      ]
     },
     "execution_count": 33,
     "metadata": {},
     "output_type": "execute_result"
    }
   ],
   "source": [
    "chisquare(distribuicao)"
   ]
  },
  {
   "cell_type": "markdown",
   "metadata": {},
   "source": [
    "Teste de Kolmogorov Smirnov"
   ]
  },
  {
   "cell_type": "code",
   "execution_count": 34,
   "metadata": {},
   "outputs": [
    {
     "name": "stdout",
     "output_type": "stream",
     "text": [
      "0.0203290414934314\n",
      "0.6476985337561634\n",
      "Distribuição é a passada como entrada\n"
     ]
    }
   ],
   "source": [
    "param = stats.triang.fit(distribuicao)\n",
    "ks, p_value = stats.kstest(distribuicao, lambda distribuicao : stats.triang.cdf(distribuicao, *param))\n",
    "print(ks)\n",
    "print(p_value)\n",
    "teste_hipoteses(ks,len(distribuicao))"
   ]
  },
  {
   "cell_type": "markdown",
   "metadata": {},
   "source": [
    "Box-plot dos dados gerados"
   ]
  },
  {
   "cell_type": "code",
   "execution_count": 35,
   "metadata": {},
   "outputs": [
    {
     "data": {
      "text/plain": [
       "{'whiskers': [<matplotlib.lines.Line2D at 0x1f0ce113130>,\n",
       "  <matplotlib.lines.Line2D at 0x1f0ce1134c0>],\n",
       " 'caps': [<matplotlib.lines.Line2D at 0x1f0ce113850>,\n",
       "  <matplotlib.lines.Line2D at 0x1f0ce113be0>],\n",
       " 'boxes': [<matplotlib.lines.Line2D at 0x1f0ce0f4c70>],\n",
       " 'medians': [<matplotlib.lines.Line2D at 0x1f0ce113f70>],\n",
       " 'fliers': [<matplotlib.lines.Line2D at 0x1f0ce11d340>],\n",
       " 'means': []}"
      ]
     },
     "execution_count": 35,
     "metadata": {},
     "output_type": "execute_result"
    },
    {
     "data": {
      "image/png": "[encoded data removed]",
      "text/plain": [
       "<Figure size 432x288 with 1 Axes>"
      ]
     },
     "metadata": {
      "needs_background": "light"
     },
     "output_type": "display_data"
    }
   ],
   "source": [
    "plt.boxplot(distribuicao)"
   ]
  },
  {
   "cell_type": "markdown",
   "metadata": {},
   "source": [
    "Diagrama de dispersão dos dados gerados"
   ]
  },
  {
   "cell_type": "code",
   "execution_count": 36,
   "metadata": {},
   "outputs": [
    {
     "data": {
      "text/plain": [
       "<matplotlib.collections.PathCollection at 0x1f0ce175a60>"
      ]
     },
     "execution_count": 36,
     "metadata": {},
     "output_type": "execute_result"
    },
    {
     "data": {
      "image/png": "[encoded data removed]",
      "text/plain": [
       "<Figure size 432x288 with 1 Axes>"
      ]
     },
     "metadata": {
      "needs_background": "light"
     },
     "output_type": "display_data"
    }
   ],
   "source": [
    "ey = []\n",
    "j=1\n",
    "while j <= 1300:\n",
    "    ey.append(distribuicao[j])\n",
    "    j+=1\n",
    "distribuicao = np.resize(distribuicao, distribuicao.size - 1)\n",
    "plt.scatter(distribuicao,ey,color = 'r')"
   ]
  },
  {
   "cell_type": "code",
   "execution_count": 37,
   "metadata": {},
   "outputs": [
    {
     "data": {
      "text/plain": [
       "-0.8936067604647087"
      ]
     },
     "execution_count": 37,
     "metadata": {},
     "output_type": "execute_result"
    }
   ],
   "source": [
    "x = np.array(distribuicao)\n",
    "y = np.array(ey)\n",
    "x = x.reshape(-1,1)\n",
    "\n",
    "linreg = LinearRegression(fit_intercept = False)\n",
    "obj = linreg.fit(x,y)\n",
    "pred = linreg.predict(x)\n",
    "r2 = r2_score(y,pred)\n",
    "r2"
   ]
  },
  {
   "cell_type": "markdown",
   "metadata": {},
   "source": [
    "Mostrando a parte inicial dos dados gerados, onde a coluna da esquerda corresponde a Ti e a coluna da direita corresponde a T(i+1)"
   ]
  },
  {
   "cell_type": "code",
   "execution_count": 38,
   "metadata": {},
   "outputs": [
    {
     "data": {
      "text/html": [
       "<div>\n",
       "<style scoped>\n",
       "    .dataframe tbody tr th:only-of-type {\n",
       "        vertical-align: middle;\n",
       "    }\n",
       "\n",
       "    .dataframe tbody tr th {\n",
       "        vertical-align: top;\n",
       "    }\n",
       "\n",
       "    .dataframe thead th {\n",
       "        text-align: right;\n",
       "    }\n",
       "</style>\n",
       "<table border=\"1\" class=\"dataframe\">\n",
       "  <thead>\n",
       "    <tr style=\"text-align: right;\">\n",
       "      <th></th>\n",
       "      <th>0</th>\n",
       "    </tr>\n",
       "  </thead>\n",
       "  <tbody>\n",
       "    <tr>\n",
       "      <th>0.492114</th>\n",
       "      <td>0.509907</td>\n",
       "    </tr>\n",
       "    <tr>\n",
       "      <th>0.378868</th>\n",
       "      <td>0.492114</td>\n",
       "    </tr>\n",
       "    <tr>\n",
       "      <th>0.435472</th>\n",
       "      <td>0.378868</td>\n",
       "    </tr>\n",
       "    <tr>\n",
       "      <th>0.426824</th>\n",
       "      <td>0.435472</td>\n",
       "    </tr>\n",
       "    <tr>\n",
       "      <th>0.439553</th>\n",
       "      <td>0.426824</td>\n",
       "    </tr>\n",
       "  </tbody>\n",
       "</table>\n",
       "</div>"
      ],
      "text/plain": [
       "                 0\n",
       "0.492114  0.509907\n",
       "0.378868  0.492114\n",
       "0.435472  0.378868\n",
       "0.426824  0.435472\n",
       "0.439553  0.426824"
      ]
     },
     "execution_count": 38,
     "metadata": {},
     "output_type": "execute_result"
    }
   ],
   "source": [
    "df4 = pd.DataFrame(distribuicao, ey)\n",
    "df4.head()"
   ]
  },
  {
   "cell_type": "markdown",
   "metadata": {},
   "source": [
    "# Mesa dos vegetarianos"
   ]
  },
  {
   "cell_type": "markdown",
   "metadata": {},
   "source": [
    "Geração dos números aleatórios com uma distribuição triangular e criação do histograma"
   ]
  },
  {
   "cell_type": "code",
   "execution_count": 39,
   "metadata": {},
   "outputs": [
    {
     "data": {
      "image/png": "[encoded data removed]",
      "text/plain": [
       "<Figure size 432x288 with 1 Axes>"
      ]
     },
     "metadata": {
      "needs_background": "light"
     },
     "output_type": "display_data"
    }
   ],
   "source": [
    "distribuicao = np.random.triangular(0.5, 0.75, 1, 1301)\n",
    "h = plt.hist(distribuicao, bins=200,\n",
    "             density=True)"
   ]
  },
  {
   "cell_type": "markdown",
   "metadata": {},
   "source": [
    "Teste Chi-quadrado para uma distribuição uniforme Conclusão: pelo Valor-p encontrado ser maior que o nível de significância de 5%, logo a distribuição não é uniforme"
   ]
  },
  {
   "cell_type": "code",
   "execution_count": 40,
   "metadata": {},
   "outputs": [
    {
     "data": {
      "text/plain": [
       "Power_divergenceResult(statistic=18.19241517206555, pvalue=1.0)"
      ]
     },
     "execution_count": 40,
     "metadata": {},
     "output_type": "execute_result"
    }
   ],
   "source": [
    "chisquare(distribuicao)"
   ]
  },
  {
   "cell_type": "markdown",
   "metadata": {},
   "source": [
    "Teste de Kolmogorov Smirnov"
   ]
  },
  {
   "cell_type": "code",
   "execution_count": 41,
   "metadata": {},
   "outputs": [
    {
     "name": "stdout",
     "output_type": "stream",
     "text": [
      "0.017973618440366157\n",
      "0.7875913260077567\n",
      "Distribuição é a passada como entrada\n"
     ]
    }
   ],
   "source": [
    "param = stats.triang.fit(distribuicao)\n",
    "ks, p_value = stats.kstest(distribuicao, lambda distribuicao : stats.triang.cdf(distribuicao, *param))\n",
    "print(ks)\n",
    "print(p_value)\n",
    "teste_hipoteses(ks,len(distribuicao))"
   ]
  },
  {
   "cell_type": "markdown",
   "metadata": {},
   "source": [
    "Box-plot dos dados gerados aleatoriamente"
   ]
  },
  {
   "cell_type": "code",
   "execution_count": 42,
   "metadata": {},
   "outputs": [
    {
     "data": {
      "text/plain": [
       "{'whiskers': [<matplotlib.lines.Line2D at 0x1f0ce3e4b50>,\n",
       "  <matplotlib.lines.Line2D at 0x1f0ce3e4f10>],\n",
       " 'caps': [<matplotlib.lines.Line2D at 0x1f0ce3f2160>,\n",
       "  <matplotlib.lines.Line2D at 0x1f0ce3f24f0>],\n",
       " 'boxes': [<matplotlib.lines.Line2D at 0x1f0ce3e47c0>],\n",
       " 'medians': [<matplotlib.lines.Line2D at 0x1f0ce3f2880>],\n",
       " 'fliers': [<matplotlib.lines.Line2D at 0x1f0ce3f2c10>],\n",
       " 'means': []}"
      ]
     },
     "execution_count": 42,
     "metadata": {},
     "output_type": "execute_result"
    },
    {
     "data": {
      "image/png": "[encoded data removed]",
      "text/plain": [
       "<Figure size 432x288 with 1 Axes>"
      ]
     },
     "metadata": {
      "needs_background": "light"
     },
     "output_type": "display_data"
    }
   ],
   "source": [
    "plt.boxplot(distribuicao)"
   ]
  },
  {
   "cell_type": "markdown",
   "metadata": {},
   "source": [
    "Gráfico de dispersão"
   ]
  },
  {
   "cell_type": "code",
   "execution_count": 43,
   "metadata": {},
   "outputs": [
    {
     "data": {
      "text/plain": [
       "<matplotlib.collections.PathCollection at 0x1f0ce449880>"
      ]
     },
     "execution_count": 43,
     "metadata": {},
     "output_type": "execute_result"
    },
    {
     "data": {
      "image/png": "[encoded data removed]",
      "text/plain": [
       "<Figure size 432x288 with 1 Axes>"
      ]
     },
     "metadata": {
      "needs_background": "light"
     },
     "output_type": "display_data"
    }
   ],
   "source": [
    "ey = []\n",
    "j=1\n",
    "while j <= 1300:\n",
    "    ey.append(distribuicao[j])\n",
    "    j+=1\n",
    "distribuicao = np.resize(distribuicao, distribuicao.size - 1)\n",
    "plt.scatter(distribuicao,ey,color = 'r')"
   ]
  },
  {
   "cell_type": "code",
   "execution_count": 44,
   "metadata": {},
   "outputs": [
    {
     "data": {
      "text/plain": [
       "-0.9687724490620853"
      ]
     },
     "execution_count": 44,
     "metadata": {},
     "output_type": "execute_result"
    }
   ],
   "source": [
    "x = np.array(distribuicao)\n",
    "y = np.array(ey)\n",
    "x = x.reshape(-1,1)\n",
    "\n",
    "linreg = LinearRegression(fit_intercept = False)\n",
    "obj = linreg.fit(x,y)\n",
    "pred = linreg.predict(x)\n",
    "r2 = r2_score(y,pred)\n",
    "r2"
   ]
  },
  {
   "cell_type": "markdown",
   "metadata": {},
   "source": [
    "Mostrando a parte inicial dos dados gerados, onde a coluna da esquerda corresponde a Ti e a coluna da direita corresponde a T(i+1)"
   ]
  },
  {
   "cell_type": "code",
   "execution_count": 45,
   "metadata": {},
   "outputs": [
    {
     "data": {
      "text/html": [
       "<div>\n",
       "<style scoped>\n",
       "    .dataframe tbody tr th:only-of-type {\n",
       "        vertical-align: middle;\n",
       "    }\n",
       "\n",
       "    .dataframe tbody tr th {\n",
       "        vertical-align: top;\n",
       "    }\n",
       "\n",
       "    .dataframe thead th {\n",
       "        text-align: right;\n",
       "    }\n",
       "</style>\n",
       "<table border=\"1\" class=\"dataframe\">\n",
       "  <thead>\n",
       "    <tr style=\"text-align: right;\">\n",
       "      <th></th>\n",
       "      <th>0</th>\n",
       "    </tr>\n",
       "  </thead>\n",
       "  <tbody>\n",
       "    <tr>\n",
       "      <th>0.762452</th>\n",
       "      <td>0.960664</td>\n",
       "    </tr>\n",
       "    <tr>\n",
       "      <th>0.629256</th>\n",
       "      <td>0.762452</td>\n",
       "    </tr>\n",
       "    <tr>\n",
       "      <th>0.651291</th>\n",
       "      <td>0.629256</td>\n",
       "    </tr>\n",
       "    <tr>\n",
       "      <th>0.945135</th>\n",
       "      <td>0.651291</td>\n",
       "    </tr>\n",
       "    <tr>\n",
       "      <th>0.758227</th>\n",
       "      <td>0.945135</td>\n",
       "    </tr>\n",
       "  </tbody>\n",
       "</table>\n",
       "</div>"
      ],
      "text/plain": [
       "                 0\n",
       "0.762452  0.960664\n",
       "0.629256  0.762452\n",
       "0.651291  0.629256\n",
       "0.945135  0.651291\n",
       "0.758227  0.945135"
      ]
     },
     "execution_count": 45,
     "metadata": {},
     "output_type": "execute_result"
    }
   ],
   "source": [
    "df5 = pd.DataFrame(distribuicao, ey)\n",
    "df5.head()"
   ]
  },
  {
   "cell_type": "markdown",
   "metadata": {},
   "source": [
    "# Mesa de proteína"
   ]
  },
  {
   "cell_type": "markdown",
   "metadata": {},
   "source": [
    "Geração dos números aleatórios com uma distribuição triangular e criação do histograma"
   ]
  },
  {
   "cell_type": "code",
   "execution_count": 46,
   "metadata": {},
   "outputs": [
    {
     "data": {
      "image/png": "[encoded data removed]",
      "text/plain": [
       "<Figure size 432x288 with 1 Axes>"
      ]
     },
     "metadata": {
      "needs_background": "light"
     },
     "output_type": "display_data"
    }
   ],
   "source": [
    "distribuicao = np.random.triangular(0.1, 0.13, 0.25, 1301)\n",
    "h = plt.hist(distribuicao, bins=200,\n",
    "             density=True)"
   ]
  },
  {
   "cell_type": "markdown",
   "metadata": {},
   "source": [
    "Teste Chi-quadrado para uma distribuição uniforme Conclusão: pelo Valor-p encontrado ser maior que o nível de significância de 5%, logo a distribuição não é uniforme"
   ]
  },
  {
   "cell_type": "code",
   "execution_count": 47,
   "metadata": {},
   "outputs": [
    {
     "data": {
      "text/plain": [
       "Power_divergenceResult(statistic=8.738686756474511, pvalue=1.0)"
      ]
     },
     "execution_count": 47,
     "metadata": {},
     "output_type": "execute_result"
    }
   ],
   "source": [
    "chisquare(distribuicao)"
   ]
  },
  {
   "cell_type": "markdown",
   "metadata": {},
   "source": [
    "Teste de Kolmogorov Smirnov"
   ]
  },
  {
   "cell_type": "code",
   "execution_count": 48,
   "metadata": {},
   "outputs": [
    {
     "name": "stdout",
     "output_type": "stream",
     "text": [
      "0.017615919359957766\n",
      "0.807410191392929\n",
      "Distribuição é a passada como entrada\n"
     ]
    }
   ],
   "source": [
    "param = stats.triang.fit(distribuicao)\n",
    "ks, p_value = stats.kstest(distribuicao, lambda distribuicao : stats.triang.cdf(distribuicao, *param))\n",
    "print(ks)\n",
    "print(p_value)\n",
    "teste_hipoteses(ks,len(distribuicao))"
   ]
  },
  {
   "cell_type": "markdown",
   "metadata": {},
   "source": [
    "Criação do Box-plot dos dados"
   ]
  },
  {
   "cell_type": "code",
   "execution_count": 49,
   "metadata": {},
   "outputs": [
    {
     "data": {
      "text/plain": [
       "{'whiskers': [<matplotlib.lines.Line2D at 0x1f0ce6b99a0>,\n",
       "  <matplotlib.lines.Line2D at 0x1f0ce6b9d30>],\n",
       " 'caps': [<matplotlib.lines.Line2D at 0x1f0ce6c7100>,\n",
       "  <matplotlib.lines.Line2D at 0x1f0ce6c7490>],\n",
       " 'boxes': [<matplotlib.lines.Line2D at 0x1f0ce6b95e0>],\n",
       " 'medians': [<matplotlib.lines.Line2D at 0x1f0ce6c7820>],\n",
       " 'fliers': [<matplotlib.lines.Line2D at 0x1f0ce6c7bb0>],\n",
       " 'means': []}"
      ]
     },
     "execution_count": 49,
     "metadata": {},
     "output_type": "execute_result"
    },
    {
     "data": {
      "image/png": "[encoded data removed]",
      "text/plain": [
       "<Figure size 432x288 with 1 Axes>"
      ]
     },
     "metadata": {
      "needs_background": "light"
     },
     "output_type": "display_data"
    }
   ],
   "source": [
    "plt.boxplot(distribuicao)"
   ]
  },
  {
   "cell_type": "markdown",
   "metadata": {},
   "source": [
    "Gráfico de dispersão dos dados aleatórios gerados"
   ]
  },
  {
   "cell_type": "code",
   "execution_count": 50,
   "metadata": {},
   "outputs": [
    {
     "data": {
      "text/plain": [
       "<matplotlib.collections.PathCollection at 0x1f0ce1e6eb0>"
      ]
     },
     "execution_count": 50,
     "metadata": {},
     "output_type": "execute_result"
    },
    {
     "data": {
      "image/png": "[encoded data removed]",
      "text/plain": [
       "<Figure size 432x288 with 1 Axes>"
      ]
     },
     "metadata": {
      "needs_background": "light"
     },
     "output_type": "display_data"
    }
   ],
   "source": [
    "ey = []\n",
    "j=1\n",
    "while j <= 1300:\n",
    "    ey.append(distribuicao[j])\n",
    "    j+=1\n",
    "distribuicao = np.resize(distribuicao, distribuicao.size - 1)\n",
    "plt.scatter(distribuicao,ey,color = 'r')"
   ]
  },
  {
   "cell_type": "code",
   "execution_count": 51,
   "metadata": {},
   "outputs": [
    {
     "data": {
      "text/plain": [
       "-0.9303184573545678"
      ]
     },
     "execution_count": 51,
     "metadata": {},
     "output_type": "execute_result"
    }
   ],
   "source": [
    "x = np.array(distribuicao)\n",
    "y = np.array(ey)\n",
    "x = x.reshape(-1,1)\n",
    "\n",
    "linreg = LinearRegression(fit_intercept = False)\n",
    "obj = linreg.fit(x,y)\n",
    "pred = linreg.predict(x)\n",
    "r2 = r2_score(y,pred)\n",
    "r2"
   ]
  },
  {
   "cell_type": "markdown",
   "metadata": {},
   "source": [
    "Mostrando a parte inicial dos dados gerados, onde a coluna da esquerda corresponde a Ti e a coluna da direita corresponde a T(i+1)"
   ]
  },
  {
   "cell_type": "code",
   "execution_count": 52,
   "metadata": {},
   "outputs": [
    {
     "data": {
      "text/html": [
       "<div>\n",
       "<style scoped>\n",
       "    .dataframe tbody tr th:only-of-type {\n",
       "        vertical-align: middle;\n",
       "    }\n",
       "\n",
       "    .dataframe tbody tr th {\n",
       "        vertical-align: top;\n",
       "    }\n",
       "\n",
       "    .dataframe thead th {\n",
       "        text-align: right;\n",
       "    }\n",
       "</style>\n",
       "<table border=\"1\" class=\"dataframe\">\n",
       "  <thead>\n",
       "    <tr style=\"text-align: right;\">\n",
       "      <th></th>\n",
       "      <th>0</th>\n",
       "    </tr>\n",
       "  </thead>\n",
       "  <tbody>\n",
       "    <tr>\n",
       "      <th>0.176737</th>\n",
       "      <td>0.130470</td>\n",
       "    </tr>\n",
       "    <tr>\n",
       "      <th>0.231384</th>\n",
       "      <td>0.176737</td>\n",
       "    </tr>\n",
       "    <tr>\n",
       "      <th>0.174682</th>\n",
       "      <td>0.231384</td>\n",
       "    </tr>\n",
       "    <tr>\n",
       "      <th>0.176258</th>\n",
       "      <td>0.174682</td>\n",
       "    </tr>\n",
       "    <tr>\n",
       "      <th>0.171654</th>\n",
       "      <td>0.176258</td>\n",
       "    </tr>\n",
       "  </tbody>\n",
       "</table>\n",
       "</div>"
      ],
      "text/plain": [
       "                 0\n",
       "0.176737  0.130470\n",
       "0.231384  0.176737\n",
       "0.174682  0.231384\n",
       "0.176258  0.174682\n",
       "0.171654  0.176258"
      ]
     },
     "execution_count": 52,
     "metadata": {},
     "output_type": "execute_result"
    }
   ],
   "source": [
    "df6 = pd.DataFrame(distribuicao, ey)\n",
    "df6.head()"
   ]
  },
  {
   "cell_type": "markdown",
   "metadata": {},
   "source": [
    "# Mesa de refeições"
   ]
  },
  {
   "cell_type": "markdown",
   "metadata": {},
   "source": [
    "Geração dos números aleatórios com uma distribuição triangular e criação do histograma"
   ]
  },
  {
   "cell_type": "code",
   "execution_count": 53,
   "metadata": {},
   "outputs": [
    {
     "data": {
      "image/png": "[encoded data removed]",
      "text/plain": [
       "<Figure size 432x288 with 1 Axes>"
      ]
     },
     "metadata": {
      "needs_background": "light"
     },
     "output_type": "display_data"
    }
   ],
   "source": [
    "distribuicao = np.random.triangular(8, 12,20, 1301)\n",
    "h = plt.hist(distribuicao, bins=200,\n",
    "             density=True)"
   ]
  },
  {
   "cell_type": "markdown",
   "metadata": {},
   "source": [
    "Teste Chi-quadrado para uma distribuição uniforme Conclusão: pelo Valor-p encontrado ser maior que o nível de significância de 5%, logo a distribuição não é uniforme"
   ]
  },
  {
   "cell_type": "code",
   "execution_count": 54,
   "metadata": {},
   "outputs": [
    {
     "data": {
      "text/plain": [
       "Power_divergenceResult(statistic=617.2844324635695, pvalue=1.0)"
      ]
     },
     "execution_count": 54,
     "metadata": {},
     "output_type": "execute_result"
    }
   ],
   "source": [
    "chisquare(distribuicao)"
   ]
  },
  {
   "cell_type": "markdown",
   "metadata": {},
   "source": [
    "Teste de K-S"
   ]
  },
  {
   "cell_type": "code",
   "execution_count": 55,
   "metadata": {},
   "outputs": [
    {
     "name": "stdout",
     "output_type": "stream",
     "text": [
      "0.02008118618389987\n",
      "0.6627795865941654\n",
      "Distribuição é a passada como entrada\n"
     ]
    }
   ],
   "source": [
    "param = stats.triang.fit(distribuicao)\n",
    "ks, p_value = stats.kstest(distribuicao, lambda distribuicao : stats.triang.cdf(distribuicao, *param))\n",
    "print(ks)\n",
    "print(p_value)\n",
    "teste_hipoteses(ks,len(distribuicao))"
   ]
  },
  {
   "cell_type": "markdown",
   "metadata": {},
   "source": [
    "Criação do Box-plot"
   ]
  },
  {
   "cell_type": "code",
   "execution_count": 56,
   "metadata": {},
   "outputs": [
    {
     "data": {
      "text/plain": [
       "{'whiskers': [<matplotlib.lines.Line2D at 0x1f0cdfaa940>,\n",
       "  <matplotlib.lines.Line2D at 0x1f0cdfaacd0>],\n",
       " 'caps': [<matplotlib.lines.Line2D at 0x1f0ce3300a0>,\n",
       "  <matplotlib.lines.Line2D at 0x1f0ce330430>],\n",
       " 'boxes': [<matplotlib.lines.Line2D at 0x1f0cdfaa610>],\n",
       " 'medians': [<matplotlib.lines.Line2D at 0x1f0ce3307c0>],\n",
       " 'fliers': [<matplotlib.lines.Line2D at 0x1f0ce330b50>],\n",
       " 'means': []}"
      ]
     },
     "execution_count": 56,
     "metadata": {},
     "output_type": "execute_result"
    },
    {
     "data": {
      "image/png": "[encoded data removed]",
      "text/plain": [
       "<Figure size 432x288 with 1 Axes>"
      ]
     },
     "metadata": {
      "needs_background": "light"
     },
     "output_type": "display_data"
    }
   ],
   "source": [
    "plt.boxplot(distribuicao)"
   ]
  },
  {
   "cell_type": "markdown",
   "metadata": {},
   "source": [
    "Criação do diagrama de dispersão"
   ]
  },
  {
   "cell_type": "code",
   "execution_count": 57,
   "metadata": {},
   "outputs": [
    {
     "data": {
      "text/plain": [
       "<matplotlib.collections.PathCollection at 0x1f0cdf2cd30>"
      ]
     },
     "execution_count": 57,
     "metadata": {},
     "output_type": "execute_result"
    },
    {
     "data": {
      "image/png": "[encoded data removed]",
      "text/plain": [
       "<Figure size 432x288 with 1 Axes>"
      ]
     },
     "metadata": {
      "needs_background": "light"
     },
     "output_type": "display_data"
    }
   ],
   "source": [
    "ey = []\n",
    "j=1\n",
    "while j <= 1300:\n",
    "    ey.append(distribuicao[j])\n",
    "    j+=1\n",
    "distribuicao = np.resize(distribuicao, distribuicao.size - 1)\n",
    "plt.scatter(distribuicao,ey,color = 'r')"
   ]
  },
  {
   "cell_type": "markdown",
   "metadata": {},
   "source": [
    "Cálculo do R²"
   ]
  },
  {
   "cell_type": "code",
   "execution_count": 58,
   "metadata": {},
   "outputs": [
    {
     "data": {
      "text/plain": [
       "0.0005271240622280565"
      ]
     },
     "execution_count": 58,
     "metadata": {},
     "output_type": "execute_result"
    }
   ],
   "source": [
    "slope, intercept, r_value, p_value, std_err = scipy.stats.linregress(distribuicao, ey)\n",
    "R2 = r_value**2\n",
    "R2"
   ]
  },
  {
   "cell_type": "markdown",
   "metadata": {},
   "source": [
    "Mostrando a parte inicial dos dados gerados, onde a coluna da esquerda corresponde a Ti e a coluna da direita corresponde a T(i+1)"
   ]
  },
  {
   "cell_type": "code",
   "execution_count": 59,
   "metadata": {},
   "outputs": [
    {
     "data": {
      "text/html": [
       "<div>\n",
       "<style scoped>\n",
       "    .dataframe tbody tr th:only-of-type {\n",
       "        vertical-align: middle;\n",
       "    }\n",
       "\n",
       "    .dataframe tbody tr th {\n",
       "        vertical-align: top;\n",
       "    }\n",
       "\n",
       "    .dataframe thead th {\n",
       "        text-align: right;\n",
       "    }\n",
       "</style>\n",
       "<table border=\"1\" class=\"dataframe\">\n",
       "  <thead>\n",
       "    <tr style=\"text-align: right;\">\n",
       "      <th></th>\n",
       "      <th>0</th>\n",
       "    </tr>\n",
       "  </thead>\n",
       "  <tbody>\n",
       "    <tr>\n",
       "      <th>12.550284</th>\n",
       "      <td>11.859574</td>\n",
       "    </tr>\n",
       "    <tr>\n",
       "      <th>12.391707</th>\n",
       "      <td>12.550284</td>\n",
       "    </tr>\n",
       "    <tr>\n",
       "      <th>8.691672</th>\n",
       "      <td>12.391707</td>\n",
       "    </tr>\n",
       "    <tr>\n",
       "      <th>12.766053</th>\n",
       "      <td>8.691672</td>\n",
       "    </tr>\n",
       "    <tr>\n",
       "      <th>11.591771</th>\n",
       "      <td>12.766053</td>\n",
       "    </tr>\n",
       "  </tbody>\n",
       "</table>\n",
       "</div>"
      ],
      "text/plain": [
       "                   0\n",
       "12.550284  11.859574\n",
       "12.391707  12.550284\n",
       "8.691672   12.391707\n",
       "12.766053   8.691672\n",
       "11.591771  12.766053"
      ]
     },
     "execution_count": 59,
     "metadata": {},
     "output_type": "execute_result"
    }
   ],
   "source": [
    "df7 = pd.DataFrame(distribuicao, ey)\n",
    "df7.head()"
   ]
  },
  {
   "cell_type": "markdown",
   "metadata": {},
   "source": [
    "# Cálculo do R2"
   ]
  },
  {
   "cell_type": "code",
   "execution_count": 60,
   "metadata": {},
   "outputs": [],
   "source": [
    "from scipy.optimize import curve_fit\n",
    "def func(x, a, b, c):\n",
    "    return a * np.exp(-b * x) + c"
   ]
  },
  {
   "cell_type": "markdown",
   "metadata": {},
   "source": [
    "Horário: 11-12h -> 150 pessoas"
   ]
  },
  {
   "cell_type": "code",
   "execution_count": 61,
   "metadata": {},
   "outputs": [
    {
     "name": "stdout",
     "output_type": "stream",
     "text": [
      "0.5923386889925171\n"
     ]
    }
   ],
   "source": [
    "lam = 2.5\n",
    "beta = 1/lam\n",
    "x = np.linspace(0,2.5, 150) \n",
    "y = func(x, lam, 1, 0)\n",
    "y_noise = np.random.exponential(scale = beta, size = 150)\n",
    "y = y + y_noise \n",
    "popt, pcov = curve_fit(func, x, y)\n",
    "residuals = y- func(x, *popt)\n",
    "ss_res = np.sum(residuals**2)\n",
    "ss_tot = np.sum((y-np.mean(y))**2)\n",
    "r_squared = 1 - (ss_res / ss_tot)\n",
    "print(r_squared)"
   ]
  },
  {
   "cell_type": "code",
   "execution_count": 62,
   "metadata": {},
   "outputs": [
    {
     "data": {
      "text/plain": [
       "[<matplotlib.lines.Line2D at 0x1f0ce22e610>]"
      ]
     },
     "execution_count": 62,
     "metadata": {},
     "output_type": "execute_result"
    },
    {
     "data": {
      "image/png": "[encoded data removed]",
      "text/plain": [
       "<Figure size 432x288 with 1 Axes>"
      ]
     },
     "metadata": {
      "needs_background": "light"
     },
     "output_type": "display_data"
    }
   ],
   "source": [
    "plt.plot(x, func(x, *popt))"
   ]
  },
  {
   "cell_type": "markdown",
   "metadata": {},
   "source": [
    "Horário: 12-13h -> 750 pessoas"
   ]
  },
  {
   "cell_type": "code",
   "execution_count": 63,
   "metadata": {},
   "outputs": [
    {
     "name": "stdout",
     "output_type": "stream",
     "text": [
      "0.9992633799409453\n"
     ]
    }
   ],
   "source": [
    "lam = 12.5\n",
    "beta = 1/lam\n",
    "x = np.linspace(0,6.67,750) \n",
    "y = func(x, lam, 1, 0)\n",
    "y_noise = np.random.exponential(scale = beta, size = 750)\n",
    "y = y + y_noise \n",
    "popt, pcov = curve_fit(func, x, y)\n",
    "residuals = y- func(x, *popt)\n",
    "ss_res = np.sum(residuals**2)\n",
    "ss_tot = np.sum((y-np.mean(y))**2)\n",
    "r_squared = 1 - (ss_res / ss_tot)\n",
    "print(r_squared)"
   ]
  },
  {
   "cell_type": "code",
   "execution_count": 64,
   "metadata": {},
   "outputs": [
    {
     "data": {
      "text/plain": [
       "[<matplotlib.lines.Line2D at 0x1f0ce2c9880>]"
      ]
     },
     "execution_count": 64,
     "metadata": {},
     "output_type": "execute_result"
    },
    {
     "data": {
      "image/png": "[encoded data removed]",
      "text/plain": [
       "<Figure size 432x288 with 1 Axes>"
      ]
     },
     "metadata": {
      "needs_background": "light"
     },
     "output_type": "display_data"
    }
   ],
   "source": [
    "plt.plot(x, func(x, *popt))"
   ]
  },
  {
   "cell_type": "markdown",
   "metadata": {},
   "source": [
    "Horário: 13-14h -> 400 pessoas"
   ]
  },
  {
   "cell_type": "code",
   "execution_count": 65,
   "metadata": {},
   "outputs": [
    {
     "name": "stdout",
     "output_type": "stream",
     "text": [
      "0.9917436705290594\n"
     ]
    }
   ],
   "source": [
    "lam = 6.67\n",
    "beta = 1/lam\n",
    "x = np.linspace(0,6.67,400) \n",
    "y = func(x, lam, 1, 0)\n",
    "y_noise = np.random.exponential(scale = beta, size = 400)\n",
    "y = y + y_noise\n",
    "popt, pcov = curve_fit(func, x, y)\n",
    "residuals = y- func(x, *popt)\n",
    "ss_res = np.sum(residuals**2)\n",
    "ss_tot = np.sum((y-np.mean(y))**2)\n",
    "r_squared = 1 - (ss_res / ss_tot)\n",
    "print(r_squared)"
   ]
  },
  {
   "cell_type": "code",
   "execution_count": 66,
   "metadata": {},
   "outputs": [
    {
     "data": {
      "text/plain": [
       "[<matplotlib.lines.Line2D at 0x1f0ceb56430>]"
      ]
     },
     "execution_count": 66,
     "metadata": {},
     "output_type": "execute_result"
    },
    {
     "data": {
      "image/png": "[encoded data removed]",
      "text/plain": [
       "<Figure size 432x288 with 1 Axes>"
      ]
     },
     "metadata": {
      "needs_background": "light"
     },
     "output_type": "display_data"
    }
   ],
   "source": [
    "plt.plot(x, func(x, *popt))"
   ]
  }
 ],
 "metadata": {
  "kernelspec": {
   "display_name": "Python 3",
   "language": "python",
   "name": "python3"
  },
  "language_info": {
   "codemirror_mode": {
    "name": "ipython",
    "version": 3
   },
   "file_extension": ".py",
   "mimetype": "text/x-python",
   "name": "python",
   "nbconvert_exporter": "python",
   "pygments_lexer": "ipython3",
   "version": "3.8.5"
  }
 },
 "nbformat": 4,
 "nbformat_minor": 4
}
