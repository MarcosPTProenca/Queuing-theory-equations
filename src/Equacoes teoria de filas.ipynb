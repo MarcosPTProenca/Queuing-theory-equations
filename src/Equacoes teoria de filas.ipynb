{
  "nbformat": 4,
  "nbformat_minor": 0,
  "metadata": {
    "colab": {
      "name": "Simulacao de sistemas (P1).ipynb",
      "provenance": [],
      "collapsed_sections": []
    },
    "kernelspec": {
      "name": "python3",
      "display_name": "Python 3"
    },
    "language_info": {
      "name": "python"
    }
  },
  "cells": [
    {
      "cell_type": "code",
      "metadata": {
        "id": "CiXfqM-TOqBN",
        "colab": {
          "base_uri": "https://localhost:8080/"
        },
        "outputId": "17390937-15f7-4926-a76b-d60018ba5c0b"
      },
      "source": [
        "!pip install PyDTMC\n",
        "import pydtmc as m"
      ],
      "execution_count": null,
      "outputs": [
        {
          "output_type": "stream",
          "text": [
            "Collecting PyDTMC\n",
            "\u001b[?25l  Downloading https://files.pythonhosted.org/packages/a6/8a/d707f6e4d3b88d64be3e7273908e294eaa9415f875a8f43c73fd75c61f35/PyDTMC-5.3.0.tar.gz (54kB)\n",
            "\u001b[K     |████████████████████████████████| 61kB 3.4MB/s \n",
            "\u001b[?25hRequirement already satisfied: matplotlib in /usr/local/lib/python3.7/dist-packages (from PyDTMC) (3.2.2)\n",
            "Requirement already satisfied: networkx in /usr/local/lib/python3.7/dist-packages (from PyDTMC) (2.5.1)\n",
            "Requirement already satisfied: numpy in /usr/local/lib/python3.7/dist-packages (from PyDTMC) (1.19.5)\n",
            "Requirement already satisfied: pytest in /usr/local/lib/python3.7/dist-packages (from PyDTMC) (3.6.4)\n",
            "Requirement already satisfied: scipy in /usr/local/lib/python3.7/dist-packages (from PyDTMC) (1.4.1)\n",
            "Requirement already satisfied: pyparsing!=2.0.4,!=2.1.2,!=2.1.6,>=2.0.1 in /usr/local/lib/python3.7/dist-packages (from matplotlib->PyDTMC) (2.4.7)\n",
            "Requirement already satisfied: cycler>=0.10 in /usr/local/lib/python3.7/dist-packages (from matplotlib->PyDTMC) (0.10.0)\n",
            "Requirement already satisfied: kiwisolver>=1.0.1 in /usr/local/lib/python3.7/dist-packages (from matplotlib->PyDTMC) (1.3.1)\n",
            "Requirement already satisfied: python-dateutil>=2.1 in /usr/local/lib/python3.7/dist-packages (from matplotlib->PyDTMC) (2.8.1)\n",
            "Requirement already satisfied: decorator<5,>=4.3 in /usr/local/lib/python3.7/dist-packages (from networkx->PyDTMC) (4.4.2)\n",
            "Requirement already satisfied: six>=1.10.0 in /usr/local/lib/python3.7/dist-packages (from pytest->PyDTMC) (1.15.0)\n",
            "Requirement already satisfied: more-itertools>=4.0.0 in /usr/local/lib/python3.7/dist-packages (from pytest->PyDTMC) (8.7.0)\n",
            "Requirement already satisfied: py>=1.5.0 in /usr/local/lib/python3.7/dist-packages (from pytest->PyDTMC) (1.10.0)\n",
            "Requirement already satisfied: setuptools in /usr/local/lib/python3.7/dist-packages (from pytest->PyDTMC) (56.1.0)\n",
            "Requirement already satisfied: attrs>=17.4.0 in /usr/local/lib/python3.7/dist-packages (from pytest->PyDTMC) (21.2.0)\n",
            "Requirement already satisfied: pluggy<0.8,>=0.5 in /usr/local/lib/python3.7/dist-packages (from pytest->PyDTMC) (0.7.1)\n",
            "Requirement already satisfied: atomicwrites>=1.0 in /usr/local/lib/python3.7/dist-packages (from pytest->PyDTMC) (1.4.0)\n",
            "Building wheels for collected packages: PyDTMC\n",
            "  Building wheel for PyDTMC (setup.py) ... \u001b[?25l\u001b[?25hdone\n",
            "  Created wheel for PyDTMC: filename=PyDTMC-5.3.0-cp37-none-any.whl size=43150 sha256=2611179925267a4a5474939dd57daf9e133a80bd53c1be827566cab3dab75b97\n",
            "  Stored in directory: /root/.cache/pip/wheels/6a/b6/96/899e2d1d02b98cece86166bb6e027cd11e2c7dd4fab0341c5b\n",
            "Successfully built PyDTMC\n",
            "Installing collected packages: PyDTMC\n",
            "Successfully installed PyDTMC-5.3.0\n"
          ],
          "name": "stdout"
        }
      ]
    },
    {
      "cell_type": "code",
      "metadata": {
        "id": "D1GlfRKPXz49"
      },
      "source": [
        "import math"
      ],
      "execution_count": null,
      "outputs": []
    },
    {
      "cell_type": "markdown",
      "metadata": {
        "id": "Gta8tAzDGJ3I"
      },
      "source": [
        "### AULA 3 - Cadeias de Markov"
      ]
    },
    {
      "cell_type": "markdown",
      "metadata": {
        "id": "x2Oi1KVjR3uR"
      },
      "source": [
        "IDENTIFICAR SE A CADEIA DE MARKOV É ERDÓGICA\n"
      ]
    },
    {
      "cell_type": "markdown",
      "metadata": {
        "id": "kSEI4WJDSkGv"
      },
      "source": [
        "Colocar a matriz:\n"
      ]
    },
    {
      "cell_type": "code",
      "metadata": {
        "id": "HHpqM-YdRXnJ"
      },
      "source": [
        "p = [[0.5, 0.5, 0.0], \n",
        "     [0.25, 0.5, 0.25], \n",
        "     [0.0, 0.5, 0.5]]"
      ],
      "execution_count": null,
      "outputs": []
    },
    {
      "cell_type": "code",
      "metadata": {
        "colab": {
          "base_uri": "https://localhost:8080/"
        },
        "id": "_qY5bj6tRgla",
        "outputId": "d2fbaa05-2b81-45b5-d039-fa1059c29f07"
      },
      "source": [
        "mc = m.MarkovChain(p, ['A', 'B', 'C'])\n",
        "print('Matriz é erdógica?')\n",
        "print(mc.is_ergodic)"
      ],
      "execution_count": null,
      "outputs": [
        {
          "output_type": "stream",
          "text": [
            "Matriz é erdógica?\n",
            "True\n"
          ],
          "name": "stdout"
        }
      ]
    },
    {
      "cell_type": "code",
      "metadata": {
        "colab": {
          "base_uri": "https://localhost:8080/"
        },
        "id": "v04hH4kATAET",
        "outputId": "ac2a873e-fe14-4e2d-b125-ca15f3eac726"
      },
      "source": [
        "print(mc)"
      ],
      "execution_count": null,
      "outputs": [
        {
          "output_type": "stream",
          "text": [
            "\n",
            "DISCRETE-TIME MARKOV CHAIN\n",
            " SIZE:           4\n",
            " RANK:           4\n",
            " CLASSES:        2\n",
            "  > RECURRENT:   1\n",
            "  > TRANSIENT:   1\n",
            " ERGODIC:        NO\n",
            "  > APERIODIC:   YES\n",
            "  > IRREDUCIBLE: NO\n",
            " ABSORBING:      YES\n",
            " REGULAR:        NO\n",
            " REVERSIBLE:     NO\n",
            " SYMMETRIC:      NO\n",
            "\n"
          ],
          "name": "stdout"
        }
      ]
    },
    {
      "cell_type": "code",
      "metadata": {
        "colab": {
          "base_uri": "https://localhost:8080/",
          "height": 427
        },
        "id": "xNUaTzMVSWHI",
        "outputId": "f4ac2087-6f3a-4c06-cacb-3609c3636bee"
      },
      "source": [
        "m.plot_graph(mc)"
      ],
      "execution_count": null,
      "outputs": [
        {
          "output_type": "display_data",
          "data": {
            "image/png": "[encoded data removed]",
            "text/plain": [
              "<Figure size 351x517 with 1 Axes>"
            ]
          },
          "metadata": {
            "tags": [],
            "needs_background": "light"
          }
        }
      ]
    },
    {
      "cell_type": "markdown",
      "metadata": {
        "id": "rA7nYUCTFf5G"
      },
      "source": [
        "## AULA 4 - Teoria de filas 1"
      ]
    },
    {
      "cell_type": "code",
      "metadata": {
        "id": "AEA9p0xOFejp"
      },
      "source": [
        "def prob_cheg(n,lambdac,t):\n",
        "  return (math.exp(-lambdac*t)*(lambdac*t)**n)/math.factorial(n)\n",
        "def desvio_p(lambdac,t):\n",
        "  return math.sqrt(lambdac*t)\n",
        "def media_p(lambdac,t):\n",
        "  return lambdac*t\n",
        "def prob_entre(lambdac,ti,tf):\n",
        "  return math.exp(-ti*lambdac) - math.exp(-tf*lambdac)"
      ],
      "execution_count": null,
      "outputs": []
    },
    {
      "cell_type": "markdown",
      "metadata": {
        "id": "yQ4O0p2sGXyJ"
      },
      "source": [
        "Probabilidade de chegada em um intervalo de tempo = Distribuição de Poisson\n",
        "\n",
        "\n",
        "![image.png](data:image/png;base64,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)"
      ]
    },
    {
      "cell_type": "code",
      "metadata": {
        "colab": {
          "base_uri": "https://localhost:8080/"
        },
        "id": "i1yoDWdGHws6",
        "outputId": "f7ad7a44-de9a-464f-e9f4-49b0f455ee83"
      },
      "source": [
        "# n = numero de chegadas/pedidos\n",
        "n = 0\n",
        "# lambdac = taxa media de chegadas\n",
        "lambdac = 2.4\n",
        "# t = tamanho do intervalo de tempo\n",
        "t = 1\n",
        "print(prob_cheg(n,lambdac,t))\n",
        "print(1-prob_cheg(n,lambdac,t))"
      ],
      "execution_count": null,
      "outputs": [
        {
          "output_type": "stream",
          "text": [
            "0.09071795328941251\n",
            "0.9092820467105875\n"
          ],
          "name": "stdout"
        }
      ]
    },
    {
      "cell_type": "markdown",
      "metadata": {
        "id": "TCjhdYXOItc4"
      },
      "source": [
        "Desvio padrão da distribuição de Poisson\n",
        "\n",
        "\n",
        "![image.png](data:image/png;base64,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)"
      ]
    },
    {
      "cell_type": "code",
      "metadata": {
        "colab": {
          "base_uri": "https://localhost:8080/"
        },
        "id": "5cuwozR1JWWn",
        "outputId": "123301a3-f1da-4301-e7ee-37c05c2ebc1e"
      },
      "source": [
        "# lambdac = taxa media de chegadas\n",
        "lambdac = 30\n",
        "# t = tamanho do intervalo de tempo\n",
        "t = 4\n",
        "print(desvio_p(lambdac,t))"
      ],
      "execution_count": null,
      "outputs": [
        {
          "output_type": "stream",
          "text": [
            "10.954451150103322\n"
          ],
          "name": "stdout"
        }
      ]
    },
    {
      "cell_type": "markdown",
      "metadata": {
        "id": "KZpUVOA-KHjD"
      },
      "source": [
        "Média da distribuição de Poisson\n",
        "\n",
        "![image.png](data:image/png;base64,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)\n"
      ]
    },
    {
      "cell_type": "code",
      "metadata": {
        "colab": {
          "base_uri": "https://localhost:8080/"
        },
        "id": "RjA6k_uhKR8H",
        "outputId": "daac3984-616a-4785-db80-cd1ab05e2886"
      },
      "source": [
        "# lambdac = taxa media de chegadas\n",
        "lambdac = 30\n",
        "# t = tamanho do intervalo de tempo\n",
        "t = 4\n",
        "print(media_p(lambdac,t))"
      ],
      "execution_count": null,
      "outputs": [
        {
          "output_type": "stream",
          "text": [
            "120\n"
          ],
          "name": "stdout"
        }
      ]
    },
    {
      "cell_type": "markdown",
      "metadata": {
        "id": "1-7FaEQJK2EZ"
      },
      "source": [
        "Probabilidade de que o tempo entre dois pedidos esteja entre um \n",
        "intervalo de tempo\n",
        "\n",
        "![image.png](data:image/png;base64,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)"
      ]
    },
    {
      "cell_type": "code",
      "metadata": {
        "colab": {
          "base_uri": "https://localhost:8080/"
        },
        "id": "aztUjh9iK-L1",
        "outputId": "80333688-b4bb-40af-e354-c0c61e096624"
      },
      "source": [
        "# ti = tempo inicial\n",
        "ti = 1\n",
        "# tf = tempo final\n",
        "tf = 3\n",
        "#IMPORTANTE: lambdac deve ter a mesma unidade de medida do intervalo de tempo\n",
        "lambdac = 0.5\n",
        "print(prob_entre(lambdac,ti,tf))"
      ],
      "execution_count": null,
      "outputs": [
        {
          "output_type": "stream",
          "text": [
            "0.38340049956420363\n"
          ],
          "name": "stdout"
        }
      ]
    },
    {
      "cell_type": "markdown",
      "metadata": {
        "id": "j9OyxbFuOIkn"
      },
      "source": [
        "## AULA 5 - Teoria de filas 2"
      ]
    },
    {
      "cell_type": "code",
      "metadata": {
        "id": "4a42NXxVOSu1"
      },
      "source": [
        "def ro(lambdac,mi):\n",
        "  return lambdac/mi\n",
        "def pij(j,lambdac,mi):\n",
        "  return (ro(lambdac,mi)**j)*(1-ro(lambdac,mi))\n",
        "def L(lambdac,mi):\n",
        "  return lambdac/(mi-lambdac)\n",
        "def Lq(lamdbac,mi):\n",
        "  return (ro(lambdac,mi)**2)/(1-ro(lambdac,mi))\n",
        "def Ls(lambdac,mi):\n",
        "  return ro(lambdac,mi)\n",
        "def W(lambdac,mi):\n",
        "  return 1/(mi-lambdac)\n",
        "def Wq(lambdca,mi):\n",
        "  return Lq(ro(lambdac,mi),mi)/lambdac\n",
        "def Ws(lambdac,mi):\n",
        "  return Ls(ro(lambdac,mi),mi)/lambdac\n",
        "def med_atend(lambdac,mi):\n",
        "  return ro(lambdac,mi)*mi"
      ],
      "execution_count": null,
      "outputs": []
    },
    {
      "cell_type": "markdown",
      "metadata": {
        "id": "lE0s2Vu3nUwE"
      },
      "source": [
        "Modelo de fila M/M/1/GD/∞/∞"
      ]
    },
    {
      "cell_type": "code",
      "metadata": {
        "colab": {
          "base_uri": "https://localhost:8080/"
        },
        "id": "OVgE9UfZQylD",
        "outputId": "e39bc3bb-ad46-40b8-8d23-0b166f73dd16"
      },
      "source": [
        "# lambdac = taxa de chegada\n",
        "lambdac = 2.4\n",
        "# mi = taxa de saida/atendimento\n",
        "mi = 3\n",
        "# j = numero de clientes no sistema\n",
        "j = 0\n",
        "print(f'p (intensidade de trafego): {ro(lambdac,mi)}')\n",
        "print(f'pij (probabilidade de ter {j} clientes no sistema): {pij(j,lambdac,mi)}')\n",
        "print(f'L (numero medio de clientes no sistema): {L(lambdac,mi)}')\n",
        "print(f'Lq (numero medio de clientes na fila): {Lq(lambdac,mi)}')\n",
        "print(f'Ls (numero medio esperado de clientes em atendimento): {Ls(lambdac,mi)}')\n",
        "print(f'W (tempo medio gasto pelo cliente no sistema): {W(lambdac,mi)} h ou {W(lambdac,mi)*60} min')\n",
        "print(f'Wq (tempo medio gasto pelo cliente na fila): {Wq(lambdac,mi)} h ou {Wq(lambdac,mi)*60} min')\n",
        "print(f'Ws (tempo medio gasto pelo cliente em servico): {Ws(lambdac,mi)} h ou {Ws(lambdac,mi)*60} min')\n",
        "print(f'Media atendimentos: {med_atend(lambdac,mi)}')"
      ],
      "execution_count": null,
      "outputs": [
        {
          "output_type": "stream",
          "text": [
            "p (intensidade de trafego): 0.7999999999999999\n",
            "pij (probabilidade de ter 0 clientes no sistema): 0.20000000000000007\n",
            "L (numero medio de clientes no sistema): 3.999999999999999\n",
            "Lq (numero medio de clientes na fila): 3.1999999999999984\n",
            "Ls (numero medio esperado de clientes em atendimento): 0.7999999999999999\n",
            "W (tempo medio gasto pelo cliente no sistema): 1.6666666666666665 h ou 99.99999999999999 min\n",
            "Wq (tempo medio gasto pelo cliente na fila): 1.3333333333333328 h ou 79.99999999999997 min\n",
            "Ws (tempo medio gasto pelo cliente em servico): 0.11111111111111112 h ou 6.666666666666667 min\n",
            "Media atendimentos: 2.4\n"
          ],
          "name": "stdout"
        }
      ]
    },
    {
      "cell_type": "code",
      "metadata": {
        "id": "zElGYNRmt5Zv"
      },
      "source": [
        "def ro(lambdac,mi):\n",
        "  return lambdac/mi\n",
        "def pi0_c(lambdac,mi,c):\n",
        "  return (1-ro(lambdac,mi))/(1-ro(lambdac,mi)**(c+1))\n",
        "def pij_c(j,lambdac,mi,c):\n",
        "  return (ro(lambdac,mi)**j)*pi0_c(lambdac,mi,c)\n",
        "def L_c(lambdac,mi,c):\n",
        "  return ro(lambdac,mi)*(1-(c+1)*ro(lambdac,mi)**c+c*ro(lambdac,mi)**(c+1))/((1-ro(lambdac,mi)**(c+1))*(1-ro(lambdac,mi)))\n",
        "def Ls_c(lambdac,mi,c):\n",
        "  return 1-pi0_c(lambdac,mi,c)\n",
        "def Lq_c(lambdac,mi,c):\n",
        "  return L_c(lambdac,mi,c) - Ls_c(lambdac,mi,c)\n",
        "def W_c(lambdac,mi,c):\n",
        "  return L_c(lambdac,mi,c)/(lambdac*(1-pij_c(c,lambdac,mi,c)))\n",
        "def Wq_c(lambdac,mi,c):\n",
        "  return Lq_c(lambdac,mi,c)/(lambdac*(1-pij_c(c,lambdac,mi,c)))\n",
        "def media_cheg(lambdac,mi,c):\n",
        "  return lambdac*(1-pij_c(c,lambdac,mi,c))"
      ],
      "execution_count": null,
      "outputs": []
    },
    {
      "cell_type": "markdown",
      "metadata": {
        "id": "4EA0CgDWtt-W"
      },
      "source": [
        "Modelo de Fila M/M/1/GD/c/∞"
      ]
    },
    {
      "cell_type": "code",
      "metadata": {
        "colab": {
          "base_uri": "https://localhost:8080/"
        },
        "id": "9YiATBaPx519",
        "outputId": "05a9c344-f7a1-48a4-84ad-b42c115fa61a"
      },
      "source": [
        "# lambdac = taxa de chegada\n",
        "lambdac = 40\n",
        "# mi = taxa de saida/atendimento\n",
        "mi = 15\n",
        "# j = numero de clientes no sistema\n",
        "j = 4\n",
        "# c = numero maximo possivel de clientes no sistema\n",
        "c = 4\n",
        "\n",
        "print(f'p (intensidade de trafego): {ro(lambdac,mi)}')\n",
        "print(f'pij (probabilidade de ter {j} clientes no sistema): {pij_c(j,lambdac,mi,c)}')\n",
        "print(f'L (numero medio de clientes no sistema): {L_c(lambdac,mi,c)}')\n",
        "print(f'Lq (numero medio de clientes na fila): {Lq_c(lambdac,mi,c)}')\n",
        "print(f'Ls (numero medio esperado de clientes em atendimento): {Ls_c(lambdac,mi,c)}')\n",
        "print(f'W (tempo medio gasto pelo cliente no sistema): {W_c(lambdac,mi,c)} h ou {W_c(lambdac,mi,c)*60} min')\n",
        "print(f'Wq (tempo medio gasto pelo cliente na fila): {Wq_c(lambdac,mi,c)} h ou {Wq_c(lambdac,mi,c)*60} min')\n",
        "print(f'Media de chegadas: {media_cheg(lambdac,mi,c)}')\n",
        "print(f'Probabilidade do servidor estar ocupado: {1-pi0_c(lambdac,mi,c)}')"
      ],
      "execution_count": null,
      "outputs": [
        {
          "output_type": "stream",
          "text": [
            "p (intensidade de trafego): 2.6666666666666665\n",
            "pij (probabilidade de ter 4 clientes no sistema): 0.6296694850115296\n",
            "L (numero medio de clientes no sistema): 3.4373558800922357\n",
            "Lq (numero medio de clientes na fila): 2.4498078401229813\n",
            "Ls (numero medio esperado de clientes em atendimento): 0.9875480399692544\n",
            "W (tempo medio gasto pelo cliente no sistema): 0.23204649232046487 h ou 13.922789539227892 min\n",
            "Wq (tempo medio gasto pelo cliente na fila): 0.16537982565379822 h ou 9.922789539227892 min\n",
            "Media de chegadas: 14.813220599538814\n",
            "Probabilidade do servidor estar ocupado: 0.9875480399692544\n"
          ],
          "name": "stdout"
        }
      ]
    },
    {
      "cell_type": "markdown",
      "metadata": {
        "id": "snjmdC153k7s"
      },
      "source": [
        "## AULA 6 - Teoria de filas 3"
      ]
    },
    {
      "cell_type": "code",
      "metadata": {
        "id": "N_36jIrt3sJC"
      },
      "source": [
        "def ro_s(lambdac,mi,s):\n",
        "  return lambdac/(s*mi)\n",
        "def pi0_s(lambdac,mi,s):\n",
        "  somatorio = 0\n",
        "  for i in range(0,s):\n",
        "    somatorio += ((s*ro_s(lambdac,mi,s))**i)/math.factorial(i)\n",
        "  return 1/(somatorio+((s*ro_s(lambdac,mi,s))**s)/(math.factorial(s)*(1-ro_s(lambdac,mi,s))))\n",
        "def pij_s(j,lambdac,mi,s):\n",
        "  return (s*ro_s(lambdac,mi,s))**j*pi0_s(lambdac,mi,s)/(math.factorial(s)*s**(j-s))\n",
        "def pjmaior_s(lambdac,mi,s):\n",
        "  return (s*ro_s(lambdac,mi,s))**s*pi0_s(lambdac,mi,s)/(math.factorial(s)*(1-ro_s(lambdac,mi,s)))\n",
        "def Lq_s(lambdac,mi,s):\n",
        "  return (pjmaior_s(lambdac,mi,s)*ro_s(lambdac,mi,s))/(1-ro_s(lambdac,mi,s))\n",
        "def Wq_s(lambdac,mi,s):\n",
        "  return Lq_s(lambdac,mi,s)/lambdac\n",
        "def L_s(lambdac,mi,s):\n",
        "  return Lq_s(lambdac,mi,s) + lambdac/mi\n",
        "def Ws_s(mi):\n",
        "  return 1/mi\n",
        "def Ls_s(lambdac,mi):\n",
        "  return lambdac/mi\n",
        "def W_s(lambdac,mi,s):\n",
        "  return L_s(lambdac,mi,s)/lambdac\n",
        "def prob_Wq(lambdac,mi,s,t):\n",
        "  return pjmaior_s(lambdac,mi,s)*math.exp(-s*mi*(1-ro_s(lambdac,mi,s))*t)\n",
        "def prob_W(lambdac,mi,s,t):\n",
        "  parte1 = math.exp(-mi*t)\n",
        "  parte21 = (1-math.exp(-mi*t*(s-1-s*ro_s(lambdac,mi,s))))/(s-1-ro_s(lambdac,mi,s))\n",
        "  parte22 = 1+pjmaior_s(lambdac,mi,s)*parte21\n",
        "  return parte1*parte22\n",
        "def tempo_oci(j,lambdac,mi,s):\n",
        "  aux = pi0_s(lambdac,mi,s)\n",
        "  for i in range (1,j+1):\n",
        "    aux+= pij_s(i,lambdac,mi,s)*(s-i)/s\n",
        "  return aux"
      ],
      "execution_count": null,
      "outputs": []
    },
    {
      "cell_type": "markdown",
      "metadata": {
        "id": "dk6Kjb9sbhmr"
      },
      "source": [
        "Modelo de Fila M/M/S/GD/∞/∞"
      ]
    },
    {
      "cell_type": "code",
      "metadata": {
        "colab": {
          "base_uri": "https://localhost:8080/"
        },
        "id": "vNaNz5RLWB1e",
        "outputId": "066e4321-21ef-4a19-9a23-014827c5b686"
      },
      "source": [
        "# lambdac = taxa de chegada\n",
        "lambdac = 2.4\n",
        "# mi = taxa de saida/atendimento\n",
        "mi = 3\n",
        "# j = numero de clientes no sistema\n",
        "j = 2\n",
        "# c = numero maximo possivel de clientes no sistema\n",
        "s = 2\n",
        "# t = tempo\n",
        "t = 10\n",
        "\n",
        "print(f'p (intensidade de trafego): {ro_s(lambdac,mi,s)}')\n",
        "print(f'pi0 (probabilidade de ter 0 clientes no sistema): {pi0_s(lambdac,mi,s)}')\n",
        "print(f'P(j>={s}) (probabilidade de todos os servidores estarem ocupados): {pjmaior_s(lambdac,mi,s)}')\n",
        "print(f'pij (probabilidade de ter {j} clientes no sistema): {pij_s(j,lambdac,mi,s)}')\n",
        "print(f'L (numero medio de clientes no sistema): {L_s(lambdac,mi,s)}')\n",
        "print(f'Lq (numero medio de clientes na fila): {Lq_s(lambdac,mi,s)}')\n",
        "print(f'Ls (numero medio esperado de clientes em atendimento): {Ls_s(lambdac,mi)}')\n",
        "print(f'W (tempo medio gasto pelo cliente no sistema): {W_s(lambdac,mi,s)} h ou {W_s(lambdac,mi,s)*60} min')\n",
        "print(f'Wq (tempo medio gasto pelo cliente na fila): {Wq_s(lambdac,mi,s)} h ou {Wq_s(lambdac,mi,s)*60} min')\n",
        "print(f'Ws (tempo medio gasto pelo cliente em servico/atendimento): {Ws_s(mi)} h ou {Ws_s(mi)*60} min')\n",
        "print(f'P(Wq>{t}): {prob_Wq(lambdac,mi,s,t)}')\n",
        "print(f'P(W>{t}): {prob_W(lambdac,mi,s,t)}')\n",
        "print(f'Fracao de tempo que {j} servidores estao vazios {tempo_oci(j,lambdac,mi,s)} ')"
      ],
      "execution_count": null,
      "outputs": [
        {
          "output_type": "stream",
          "text": [
            "p (intensidade de trafego): 0.39999999999999997\n",
            "pi0 (probabilidade de ter 0 clientes no sistema): 0.4285714285714286\n",
            "P(j>=2) (probabilidade de todos os servidores estarem ocupados): 0.2285714285714285\n",
            "pij (probabilidade de ter 2 clientes no sistema): 0.13714285714285712\n",
            "L (numero medio de clientes no sistema): 0.9523809523809522\n",
            "Lq (numero medio de clientes na fila): 0.1523809523809523\n",
            "Ls (numero medio esperado de clientes em atendimento): 0.7999999999999999\n",
            "W (tempo medio gasto pelo cliente no sistema): 0.39682539682539675 h ou 23.809523809523803 min\n",
            "Wq (tempo medio gasto pelo cliente na fila): 0.06349206349206346 h ou 3.8095238095238075 min\n",
            "Ws (tempo medio gasto pelo cliente em servico/atendimento): 0.3333333333333333 h ou 20.0 min\n",
            "P(Wq>10): 5.3017664691281193e-17\n",
            "P(W>10): 1.291359544142598e-13\n",
            "Fracao de tempo que 2 servidores estao vazios 0.6000000000000001 \n"
          ],
          "name": "stdout"
        }
      ]
    },
    {
      "cell_type": "markdown",
      "metadata": {
        "id": "0cFhEwZwbqjG"
      },
      "source": [
        "## AULA 7 - Teoria de filas 4"
      ]
    },
    {
      "cell_type": "code",
      "metadata": {
        "id": "WIDOVmH7bv7v"
      },
      "source": [
        "def comb(x,y):\n",
        "  return math.factorial(x)/(math.factorial(x-y)*math.factorial(y))\n",
        "def ro(lambdac,mi):\n",
        "  return lambdac/mi\n",
        "def pi0_R(lambdac,mi,k,R):\n",
        "  aux1 = 0\n",
        "  aux2 = 0\n",
        "  for i in range(1,R+1):\n",
        "    aux1 += comb(k,i)*ro(lambdac,mi)**(i)\n",
        "  for j in range(R+1,k+1):\n",
        "    aux2 += comb(k,j)*ro(lambdac,mi)**(j)*math.factorial(j)/(math.factorial(R)*R**(j-R))\n",
        "  return 1/(1+aux1+aux2)\n",
        "def pij_R(lambdac,mi,k,j,R):\n",
        "  if j<=R:\n",
        "    pij = comb(k,j)*ro(lambdac,mi)**(j)\n",
        "  else:\n",
        "    pij = comb(k,j)*ro(lambdac,mi)**(j)*math.factorial(j)/(math.factorial(R)*R**(j-R))\n",
        "  return pi0_R(lambdac,mi,k,R)*pij\n",
        "def pij_Rpi0(lambdac,mi,k,j,R):\n",
        "  if j<=R:\n",
        "    pij = comb(k,j)*ro(lambdac,mi)**(j)\n",
        "  else:\n",
        "    pij = comb(k,j)*ro(lambdac,mi)**(j)*math.factorial(j)/(math.factorial(R)*R**(j-R))\n",
        "  return pij\n",
        "def L_R(lambdac,mi,k,R):\n",
        "  somatorio = 0\n",
        "  for j in range(0,k+1):\n",
        "    somatorio += j*pij_R(lambdac,mi,k,j,R)\n",
        "  return somatorio\n",
        "def lambda_med(lambdac,mi,k,R):\n",
        "  return lambdac*(k-L_R(lambdac,mi,k,R))\n",
        "def W_R(lambdac,mi,k,R):\n",
        "  return L_R(lambdac,mi,k,R)/lambda_med(lambdac,mi,k,R)\n",
        "def Lq_R(lambdac,mi,k,R):\n",
        "  somatorio = 0\n",
        "  for j in range(R,k+1):\n",
        "    somatorio += (j-R)*pij_R(lambdac,mi,k,j,R)\n",
        "  return somatorio\n",
        "def Wq_R(lambdac,mi,k,R):\n",
        "  return Lq_R(lambdac,mi,k,R)/lambda_med(lambdac,mi,k,R)"
      ],
      "execution_count": null,
      "outputs": []
    },
    {
      "cell_type": "markdown",
      "metadata": {
        "id": "phEho9OZLx-E"
      },
      "source": [
        "Modelo de Fila M/M/R/GD/K/K"
      ]
    },
    {
      "cell_type": "code",
      "metadata": {
        "colab": {
          "base_uri": "https://localhost:8080/"
        },
        "id": "G4qWwakPzXrx",
        "outputId": "949f9ede-2021-4d65-f7bb-a065ae2713ab"
      },
      "source": [
        "# Calcular o numero de combinacoes\n",
        "x = 5\n",
        "y = 3\n",
        "print(comb(x,y))"
      ],
      "execution_count": null,
      "outputs": [
        {
          "output_type": "stream",
          "text": [
            "10.0\n"
          ],
          "name": "stdout"
        }
      ]
    },
    {
      "cell_type": "code",
      "metadata": {
        "colab": {
          "base_uri": "https://localhost:8080/"
        },
        "id": "i-Fxr93PEYLQ",
        "outputId": "03c0096e-7a3c-4002-b387-f11c806eca3b"
      },
      "source": [
        "# lambdac = taxa de chegada\n",
        "lambdac = 60/45\n",
        "# mi = taxa de saida/atendimento\n",
        "mi = 7.5\n",
        "# j = numero de clientes no sistema\n",
        "j = 5\n",
        "# R = numero de servidores em paralelo\n",
        "R = 1\n",
        "# k = numero maximo de clientes no sistema\n",
        "k = 5\n",
        "print(f'p (intensidade de trafego): {ro(lambdac,mi)}')\n",
        "print(f'pi0 (probabilidade de ter 0 clientes no sistema): {pi0_R(lambdac,mi,k,R)}')\n",
        "print(f'pij (probabilidade de ter {j} clientes no sistema): {pij_R(lambdac,mi,k,j,R)}')\n",
        "print(f'pij_pi0 (probabilidade de ter {j} clientes no sistema): {pij_Rpi0(lambdac,mi,k,j,R)}*pi0')\n",
        "print(f'L (numero medio de clientes no sistema): {L_R(lambdac,mi,k,R)}')\n",
        "print(f'Lq (numero medio de clientes na fila): {Lq_R(lambdac,mi,k,R)}')\n",
        "print(f'W (tempo medio gasto pelo cliente no sistema): {W_R(lambdac,mi,k,R)} h ou {W_R(lambdac,mi,k,R)*60} min')\n",
        "print(f'Wq (tempo medio gasto pelo cliente na fila): {Wq_R(lambdac,mi,k,R)} h ou {Wq_R(lambdac,mi,k,R)*60} min')\n",
        "print(f'lambda medio (taxa de chegada media): {lambda_med(lambdac,mi,k,R)}')\n",
        "print(f'Numero de clientes em boas condicoes: {k-L_R(lambdac,mi,k,R)}')"
      ],
      "execution_count": null,
      "outputs": [
        {
          "output_type": "stream",
          "text": [
            "p (intensidade de trafego): 0.17777777777777776\n",
            "pi0 (probabilidade de ter 0 clientes no sistema): 0.3334132499750182\n",
            "pij (probabilidade de ter 5 clientes no sistema): 0.007104793618976873\n",
            "pij_pi0 (probabilidade de ter 5 clientes no sistema): 0.021309271960575103*pi0\n",
            "L (numero medio de clientes no sistema): 1.250449531109477\n",
            "Lq (numero medio de clientes na fila): 0.5838627810844951\n",
            "W (tempo medio gasto pelo cliente no sistema): 0.25011988933425666 h ou 15.0071933600554 min\n",
            "Wq (tempo medio gasto pelo cliente na fila): 0.11678655600092332 h ou 7.007193360055399 min\n",
            "lambda medio (taxa de chegada media): 4.999400625187364\n",
            "Numero de clientes em boas condicoes: 3.749550468890523\n"
          ],
          "name": "stdout"
        }
      ]
    }
  ]
}